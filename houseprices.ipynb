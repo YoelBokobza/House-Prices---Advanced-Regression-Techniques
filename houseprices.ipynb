{
 "cells": [
  {
   "cell_type": "code",
   "execution_count": 1,
   "id": "da388fb0",
   "metadata": {
    "execution": {
     "iopub.execute_input": "2021-12-31T08:32:01.284711Z",
     "iopub.status.busy": "2021-12-31T08:32:01.283574Z",
     "iopub.status.idle": "2021-12-31T08:32:02.325673Z",
     "shell.execute_reply": "2021-12-31T08:32:02.324936Z",
     "shell.execute_reply.started": "2021-12-31T08:14:42.373512Z"
    },
    "papermill": {
     "duration": 1.118695,
     "end_time": "2021-12-31T08:32:02.325864",
     "exception": false,
     "start_time": "2021-12-31T08:32:01.207169",
     "status": "completed"
    },
    "tags": []
   },
   "outputs": [],
   "source": [
    "#Importing basics libraries\n",
    "import numpy as np \n",
    "import pandas as pd \n",
    "%matplotlib inline\n",
    "import matplotlib.pyplot as plt\n",
    "import seaborn as sns\n",
    "color = sns.color_palette()\n",
    "sns.set_style('darkgrid')\n",
    "import warnings\n",
    "def ignore_warn(*args, **kwargs):\n",
    "    pass\n",
    "warnings.warn = ignore_warn #ignore warning (from sklearn and seaborn)\n",
    "\n",
    "from scipy import stats\n",
    "from scipy.stats import norm, skew\n",
    "from scipy.stats import boxcox_normmax"
   ]
  },
  {
   "cell_type": "markdown",
   "id": "82835f65",
   "metadata": {
    "papermill": {
     "duration": 0.067463,
     "end_time": "2021-12-31T08:32:02.461284",
     "exception": false,
     "start_time": "2021-12-31T08:32:02.393821",
     "status": "completed"
    },
    "tags": []
   },
   "source": [
    "Loading the train and test set as pandas data frame"
   ]
  },
  {
   "cell_type": "code",
   "execution_count": 2,
   "id": "c91476cc",
   "metadata": {
    "execution": {
     "iopub.execute_input": "2021-12-31T08:32:02.600603Z",
     "iopub.status.busy": "2021-12-31T08:32:02.599959Z",
     "iopub.status.idle": "2021-12-31T08:32:02.800345Z",
     "shell.execute_reply": "2021-12-31T08:32:02.799700Z",
     "shell.execute_reply.started": "2021-12-31T08:14:43.264591Z"
    },
    "papermill": {
     "duration": 0.271306,
     "end_time": "2021-12-31T08:32:02.800489",
     "exception": false,
     "start_time": "2021-12-31T08:32:02.529183",
     "status": "completed"
    },
    "tags": []
   },
   "outputs": [
    {
     "data": {
      "text/html": [
       "<div>\n",
       "<style scoped>\n",
       "    .dataframe tbody tr th:only-of-type {\n",
       "        vertical-align: middle;\n",
       "    }\n",
       "\n",
       "    .dataframe tbody tr th {\n",
       "        vertical-align: top;\n",
       "    }\n",
       "\n",
       "    .dataframe thead th {\n",
       "        text-align: right;\n",
       "    }\n",
       "</style>\n",
       "<table border=\"1\" class=\"dataframe\">\n",
       "  <thead>\n",
       "    <tr style=\"text-align: right;\">\n",
       "      <th></th>\n",
       "      <th>Id</th>\n",
       "      <th>MSSubClass</th>\n",
       "      <th>LotFrontage</th>\n",
       "      <th>LotArea</th>\n",
       "      <th>OverallQual</th>\n",
       "      <th>OverallCond</th>\n",
       "      <th>YearBuilt</th>\n",
       "      <th>YearRemodAdd</th>\n",
       "      <th>MasVnrArea</th>\n",
       "      <th>BsmtFinSF1</th>\n",
       "      <th>...</th>\n",
       "      <th>WoodDeckSF</th>\n",
       "      <th>OpenPorchSF</th>\n",
       "      <th>EnclosedPorch</th>\n",
       "      <th>3SsnPorch</th>\n",
       "      <th>ScreenPorch</th>\n",
       "      <th>PoolArea</th>\n",
       "      <th>MiscVal</th>\n",
       "      <th>MoSold</th>\n",
       "      <th>YrSold</th>\n",
       "      <th>SalePrice</th>\n",
       "    </tr>\n",
       "  </thead>\n",
       "  <tbody>\n",
       "    <tr>\n",
       "      <th>count</th>\n",
       "      <td>1460.000000</td>\n",
       "      <td>1460.000000</td>\n",
       "      <td>1201.000000</td>\n",
       "      <td>1460.000000</td>\n",
       "      <td>1460.000000</td>\n",
       "      <td>1460.000000</td>\n",
       "      <td>1460.000000</td>\n",
       "      <td>1460.000000</td>\n",
       "      <td>1452.000000</td>\n",
       "      <td>1460.000000</td>\n",
       "      <td>...</td>\n",
       "      <td>1460.000000</td>\n",
       "      <td>1460.000000</td>\n",
       "      <td>1460.000000</td>\n",
       "      <td>1460.000000</td>\n",
       "      <td>1460.000000</td>\n",
       "      <td>1460.000000</td>\n",
       "      <td>1460.000000</td>\n",
       "      <td>1460.000000</td>\n",
       "      <td>1460.000000</td>\n",
       "      <td>1460.000000</td>\n",
       "    </tr>\n",
       "    <tr>\n",
       "      <th>mean</th>\n",
       "      <td>730.500000</td>\n",
       "      <td>56.897260</td>\n",
       "      <td>70.049958</td>\n",
       "      <td>10516.828082</td>\n",
       "      <td>6.099315</td>\n",
       "      <td>5.575342</td>\n",
       "      <td>1971.267808</td>\n",
       "      <td>1984.865753</td>\n",
       "      <td>103.685262</td>\n",
       "      <td>443.639726</td>\n",
       "      <td>...</td>\n",
       "      <td>94.244521</td>\n",
       "      <td>46.660274</td>\n",
       "      <td>21.954110</td>\n",
       "      <td>3.409589</td>\n",
       "      <td>15.060959</td>\n",
       "      <td>2.758904</td>\n",
       "      <td>43.489041</td>\n",
       "      <td>6.321918</td>\n",
       "      <td>2007.815753</td>\n",
       "      <td>180921.195890</td>\n",
       "    </tr>\n",
       "    <tr>\n",
       "      <th>std</th>\n",
       "      <td>421.610009</td>\n",
       "      <td>42.300571</td>\n",
       "      <td>24.284752</td>\n",
       "      <td>9981.264932</td>\n",
       "      <td>1.382997</td>\n",
       "      <td>1.112799</td>\n",
       "      <td>30.202904</td>\n",
       "      <td>20.645407</td>\n",
       "      <td>181.066207</td>\n",
       "      <td>456.098091</td>\n",
       "      <td>...</td>\n",
       "      <td>125.338794</td>\n",
       "      <td>66.256028</td>\n",
       "      <td>61.119149</td>\n",
       "      <td>29.317331</td>\n",
       "      <td>55.757415</td>\n",
       "      <td>40.177307</td>\n",
       "      <td>496.123024</td>\n",
       "      <td>2.703626</td>\n",
       "      <td>1.328095</td>\n",
       "      <td>79442.502883</td>\n",
       "    </tr>\n",
       "    <tr>\n",
       "      <th>min</th>\n",
       "      <td>1.000000</td>\n",
       "      <td>20.000000</td>\n",
       "      <td>21.000000</td>\n",
       "      <td>1300.000000</td>\n",
       "      <td>1.000000</td>\n",
       "      <td>1.000000</td>\n",
       "      <td>1872.000000</td>\n",
       "      <td>1950.000000</td>\n",
       "      <td>0.000000</td>\n",
       "      <td>0.000000</td>\n",
       "      <td>...</td>\n",
       "      <td>0.000000</td>\n",
       "      <td>0.000000</td>\n",
       "      <td>0.000000</td>\n",
       "      <td>0.000000</td>\n",
       "      <td>0.000000</td>\n",
       "      <td>0.000000</td>\n",
       "      <td>0.000000</td>\n",
       "      <td>1.000000</td>\n",
       "      <td>2006.000000</td>\n",
       "      <td>34900.000000</td>\n",
       "    </tr>\n",
       "    <tr>\n",
       "      <th>25%</th>\n",
       "      <td>365.750000</td>\n",
       "      <td>20.000000</td>\n",
       "      <td>59.000000</td>\n",
       "      <td>7553.500000</td>\n",
       "      <td>5.000000</td>\n",
       "      <td>5.000000</td>\n",
       "      <td>1954.000000</td>\n",
       "      <td>1967.000000</td>\n",
       "      <td>0.000000</td>\n",
       "      <td>0.000000</td>\n",
       "      <td>...</td>\n",
       "      <td>0.000000</td>\n",
       "      <td>0.000000</td>\n",
       "      <td>0.000000</td>\n",
       "      <td>0.000000</td>\n",
       "      <td>0.000000</td>\n",
       "      <td>0.000000</td>\n",
       "      <td>0.000000</td>\n",
       "      <td>5.000000</td>\n",
       "      <td>2007.000000</td>\n",
       "      <td>129975.000000</td>\n",
       "    </tr>\n",
       "    <tr>\n",
       "      <th>50%</th>\n",
       "      <td>730.500000</td>\n",
       "      <td>50.000000</td>\n",
       "      <td>69.000000</td>\n",
       "      <td>9478.500000</td>\n",
       "      <td>6.000000</td>\n",
       "      <td>5.000000</td>\n",
       "      <td>1973.000000</td>\n",
       "      <td>1994.000000</td>\n",
       "      <td>0.000000</td>\n",
       "      <td>383.500000</td>\n",
       "      <td>...</td>\n",
       "      <td>0.000000</td>\n",
       "      <td>25.000000</td>\n",
       "      <td>0.000000</td>\n",
       "      <td>0.000000</td>\n",
       "      <td>0.000000</td>\n",
       "      <td>0.000000</td>\n",
       "      <td>0.000000</td>\n",
       "      <td>6.000000</td>\n",
       "      <td>2008.000000</td>\n",
       "      <td>163000.000000</td>\n",
       "    </tr>\n",
       "    <tr>\n",
       "      <th>75%</th>\n",
       "      <td>1095.250000</td>\n",
       "      <td>70.000000</td>\n",
       "      <td>80.000000</td>\n",
       "      <td>11601.500000</td>\n",
       "      <td>7.000000</td>\n",
       "      <td>6.000000</td>\n",
       "      <td>2000.000000</td>\n",
       "      <td>2004.000000</td>\n",
       "      <td>166.000000</td>\n",
       "      <td>712.250000</td>\n",
       "      <td>...</td>\n",
       "      <td>168.000000</td>\n",
       "      <td>68.000000</td>\n",
       "      <td>0.000000</td>\n",
       "      <td>0.000000</td>\n",
       "      <td>0.000000</td>\n",
       "      <td>0.000000</td>\n",
       "      <td>0.000000</td>\n",
       "      <td>8.000000</td>\n",
       "      <td>2009.000000</td>\n",
       "      <td>214000.000000</td>\n",
       "    </tr>\n",
       "    <tr>\n",
       "      <th>max</th>\n",
       "      <td>1460.000000</td>\n",
       "      <td>190.000000</td>\n",
       "      <td>313.000000</td>\n",
       "      <td>215245.000000</td>\n",
       "      <td>10.000000</td>\n",
       "      <td>9.000000</td>\n",
       "      <td>2010.000000</td>\n",
       "      <td>2010.000000</td>\n",
       "      <td>1600.000000</td>\n",
       "      <td>5644.000000</td>\n",
       "      <td>...</td>\n",
       "      <td>857.000000</td>\n",
       "      <td>547.000000</td>\n",
       "      <td>552.000000</td>\n",
       "      <td>508.000000</td>\n",
       "      <td>480.000000</td>\n",
       "      <td>738.000000</td>\n",
       "      <td>15500.000000</td>\n",
       "      <td>12.000000</td>\n",
       "      <td>2010.000000</td>\n",
       "      <td>755000.000000</td>\n",
       "    </tr>\n",
       "  </tbody>\n",
       "</table>\n",
       "<p>8 rows × 38 columns</p>\n",
       "</div>"
      ],
      "text/plain": [
       "                Id   MSSubClass  LotFrontage        LotArea  OverallQual  \\\n",
       "count  1460.000000  1460.000000  1201.000000    1460.000000  1460.000000   \n",
       "mean    730.500000    56.897260    70.049958   10516.828082     6.099315   \n",
       "std     421.610009    42.300571    24.284752    9981.264932     1.382997   \n",
       "min       1.000000    20.000000    21.000000    1300.000000     1.000000   \n",
       "25%     365.750000    20.000000    59.000000    7553.500000     5.000000   \n",
       "50%     730.500000    50.000000    69.000000    9478.500000     6.000000   \n",
       "75%    1095.250000    70.000000    80.000000   11601.500000     7.000000   \n",
       "max    1460.000000   190.000000   313.000000  215245.000000    10.000000   \n",
       "\n",
       "       OverallCond    YearBuilt  YearRemodAdd   MasVnrArea   BsmtFinSF1  ...  \\\n",
       "count  1460.000000  1460.000000   1460.000000  1452.000000  1460.000000  ...   \n",
       "mean      5.575342  1971.267808   1984.865753   103.685262   443.639726  ...   \n",
       "std       1.112799    30.202904     20.645407   181.066207   456.098091  ...   \n",
       "min       1.000000  1872.000000   1950.000000     0.000000     0.000000  ...   \n",
       "25%       5.000000  1954.000000   1967.000000     0.000000     0.000000  ...   \n",
       "50%       5.000000  1973.000000   1994.000000     0.000000   383.500000  ...   \n",
       "75%       6.000000  2000.000000   2004.000000   166.000000   712.250000  ...   \n",
       "max       9.000000  2010.000000   2010.000000  1600.000000  5644.000000  ...   \n",
       "\n",
       "        WoodDeckSF  OpenPorchSF  EnclosedPorch    3SsnPorch  ScreenPorch  \\\n",
       "count  1460.000000  1460.000000    1460.000000  1460.000000  1460.000000   \n",
       "mean     94.244521    46.660274      21.954110     3.409589    15.060959   \n",
       "std     125.338794    66.256028      61.119149    29.317331    55.757415   \n",
       "min       0.000000     0.000000       0.000000     0.000000     0.000000   \n",
       "25%       0.000000     0.000000       0.000000     0.000000     0.000000   \n",
       "50%       0.000000    25.000000       0.000000     0.000000     0.000000   \n",
       "75%     168.000000    68.000000       0.000000     0.000000     0.000000   \n",
       "max     857.000000   547.000000     552.000000   508.000000   480.000000   \n",
       "\n",
       "          PoolArea       MiscVal       MoSold       YrSold      SalePrice  \n",
       "count  1460.000000   1460.000000  1460.000000  1460.000000    1460.000000  \n",
       "mean      2.758904     43.489041     6.321918  2007.815753  180921.195890  \n",
       "std      40.177307    496.123024     2.703626     1.328095   79442.502883  \n",
       "min       0.000000      0.000000     1.000000  2006.000000   34900.000000  \n",
       "25%       0.000000      0.000000     5.000000  2007.000000  129975.000000  \n",
       "50%       0.000000      0.000000     6.000000  2008.000000  163000.000000  \n",
       "75%       0.000000      0.000000     8.000000  2009.000000  214000.000000  \n",
       "max     738.000000  15500.000000    12.000000  2010.000000  755000.000000  \n",
       "\n",
       "[8 rows x 38 columns]"
      ]
     },
     "execution_count": 2,
     "metadata": {},
     "output_type": "execute_result"
    }
   ],
   "source": [
    "train = pd.read_csv('../input/house-prices-advanced-regression-techniques/train.csv')\n",
    "test = pd.read_csv('../input/house-prices-advanced-regression-techniques/test.csv')\n",
    "train.describe()"
   ]
  },
  {
   "cell_type": "markdown",
   "id": "0dd09405",
   "metadata": {
    "papermill": {
     "duration": 0.069173,
     "end_time": "2021-12-31T08:32:02.941172",
     "exception": false,
     "start_time": "2021-12-31T08:32:02.871999",
     "status": "completed"
    },
    "tags": []
   },
   "source": [
    "In the table above, we have some basic statistics for the features, as for example the mean, the standard deviation, etc."
   ]
  },
  {
   "cell_type": "code",
   "execution_count": 3,
   "id": "3cb298d8",
   "metadata": {
    "execution": {
     "iopub.execute_input": "2021-12-31T08:32:03.089416Z",
     "iopub.status.busy": "2021-12-31T08:32:03.088701Z",
     "iopub.status.idle": "2021-12-31T08:32:03.091720Z",
     "shell.execute_reply": "2021-12-31T08:32:03.092201Z",
     "shell.execute_reply.started": "2021-12-31T08:14:43.433919Z"
    },
    "papermill": {
     "duration": 0.080783,
     "end_time": "2021-12-31T08:32:03.092421",
     "exception": false,
     "start_time": "2021-12-31T08:32:03.011638",
     "status": "completed"
    },
    "tags": []
   },
   "outputs": [
    {
     "name": "stdout",
     "output_type": "stream",
     "text": [
      "Size of train data : (1460, 81)\n",
      "Size of test data : (1459, 80)\n"
     ]
    }
   ],
   "source": [
    "print (\"Size of train data : {}\" .format(train.shape))\n",
    "print (\"Size of test data : {}\" .format(test.shape))"
   ]
  },
  {
   "cell_type": "markdown",
   "id": "d5ff4e0a",
   "metadata": {
    "papermill": {
     "duration": 0.070967,
     "end_time": "2021-12-31T08:32:03.233371",
     "exception": false,
     "start_time": "2021-12-31T08:32:03.162404",
     "status": "completed"
    },
    "tags": []
   },
   "source": [
    "The number of sample for train and test is almost the same.\n",
    "Notice that in the training set we have 1 more \"feature\" than in the test set. This because the SalePrice (which is actually the labels), is not supplied for the test set."
   ]
  },
  {
   "cell_type": "code",
   "execution_count": 4,
   "id": "9ee976b2",
   "metadata": {
    "execution": {
     "iopub.execute_input": "2021-12-31T08:32:03.379368Z",
     "iopub.status.busy": "2021-12-31T08:32:03.378656Z",
     "iopub.status.idle": "2021-12-31T08:32:03.382850Z",
     "shell.execute_reply": "2021-12-31T08:32:03.383491Z",
     "shell.execute_reply.started": "2021-12-31T08:14:43.441249Z"
    },
    "papermill": {
     "duration": 0.080514,
     "end_time": "2021-12-31T08:32:03.383667",
     "exception": false,
     "start_time": "2021-12-31T08:32:03.303153",
     "status": "completed"
    },
    "tags": []
   },
   "outputs": [],
   "source": [
    "#Save the 'Id' column for creating the csv file at the end\n",
    "train_ID = train['Id']\n",
    "test_ID = test['Id']\n",
    "\n",
    "#Now drop the 'Id' colum since it's not an actual feature\n",
    "train.drop(\"Id\", axis = 1, inplace = True)\n",
    "test.drop(\"Id\", axis = 1, inplace = True)"
   ]
  },
  {
   "cell_type": "markdown",
   "id": "217edf65",
   "metadata": {
    "papermill": {
     "duration": 0.069062,
     "end_time": "2021-12-31T08:32:03.522168",
     "exception": false,
     "start_time": "2021-12-31T08:32:03.453106",
     "status": "completed"
    },
    "tags": []
   },
   "source": [
    "#### Now, we want to check the correlation between features. A there is a lot of features, we chose the features such that their correlation with SalePrice is greater than 0.45"
   ]
  },
  {
   "cell_type": "code",
   "execution_count": 5,
   "id": "1a435bf0",
   "metadata": {
    "execution": {
     "iopub.execute_input": "2021-12-31T08:32:03.666076Z",
     "iopub.status.busy": "2021-12-31T08:32:03.665097Z",
     "iopub.status.idle": "2021-12-31T08:32:05.055896Z",
     "shell.execute_reply": "2021-12-31T08:32:05.056417Z",
     "shell.execute_reply.started": "2021-12-31T08:14:43.456172Z"
    },
    "papermill": {
     "duration": 1.464796,
     "end_time": "2021-12-31T08:32:05.056590",
     "exception": false,
     "start_time": "2021-12-31T08:32:03.591794",
     "status": "completed"
    },
    "tags": []
   },
   "outputs": [
    {
     "data": {
      "image/png": "[encoded data removed]",
      "text/plain": [
       "<Figure size 720x720 with 2 Axes>"
      ]
     },
     "metadata": {},
     "output_type": "display_data"
    }
   ],
   "source": [
    "corrmat = train.corr()\n",
    "top_corr_features = corrmat.index[abs(corrmat[\"SalePrice\"])>0.45]\n",
    "plt.figure(figsize=(10,10))\n",
    "g = sns.heatmap(train[top_corr_features].corr(),annot=True,cmap=\"jet\")"
   ]
  },
  {
   "cell_type": "markdown",
   "id": "f1c4abc2",
   "metadata": {
    "papermill": {
     "duration": 0.073871,
     "end_time": "2021-12-31T08:32:05.203693",
     "exception": false,
     "start_time": "2021-12-31T08:32:05.129822",
     "status": "completed"
    },
    "tags": []
   },
   "source": [
    "We see that OverallQual is the most correlated feature with SalePrice, and this is make sense. The GrLivArea is the second most correlated feature with SalePrice.\n",
    "In addition we observed that GarageArea and GarageCars are very correlated, TotRmsAbvGrd and GrLivArea are correlated, and also GarageYrBlt and YearBuilt."
   ]
  },
  {
   "cell_type": "markdown",
   "id": "1a5ecbab",
   "metadata": {
    "papermill": {
     "duration": 0.072895,
     "end_time": "2021-12-31T08:32:05.349863",
     "exception": false,
     "start_time": "2021-12-31T08:32:05.276968",
     "status": "completed"
    },
    "tags": []
   },
   "source": [
    "Scatter plots between 'SalePrice' and correlated variables"
   ]
  },
  {
   "cell_type": "code",
   "execution_count": 6,
   "id": "18af2b31",
   "metadata": {
    "execution": {
     "iopub.execute_input": "2021-12-31T08:32:05.504915Z",
     "iopub.status.busy": "2021-12-31T08:32:05.504205Z",
     "iopub.status.idle": "2021-12-31T08:32:12.164291Z",
     "shell.execute_reply": "2021-12-31T08:32:12.164797Z",
     "shell.execute_reply.started": "2021-12-31T08:14:44.761486Z"
    },
    "papermill": {
     "duration": 6.741421,
     "end_time": "2021-12-31T08:32:12.164969",
     "exception": false,
     "start_time": "2021-12-31T08:32:05.423548",
     "status": "completed"
    },
    "tags": []
   },
   "outputs": [
    {
     "data": {
      "image/png": "[encoded data removed]",
      "text/plain": [
       "<Figure size 648x648 with 42 Axes>"
      ]
     },
     "metadata": {},
     "output_type": "display_data"
    }
   ],
   "source": [
    "sns.set()\n",
    "cols = ['SalePrice', 'OverallQual', 'GrLivArea', 'GarageCars', 'TotalBsmtSF', 'GarageArea']\n",
    "sns.pairplot(train[cols], size = 1.5)\n",
    "plt.show()"
   ]
  },
  {
   "cell_type": "markdown",
   "id": "a11b7c2e",
   "metadata": {
    "papermill": {
     "duration": 0.0771,
     "end_time": "2021-12-31T08:32:12.319447",
     "exception": false,
     "start_time": "2021-12-31T08:32:12.242347",
     "status": "completed"
    },
    "tags": []
   },
   "source": [
    "We can observe some outliers in the scatter plot of GrLivArea VS SalePrice. So, we will remove it, but first lets visualize this outliers"
   ]
  },
  {
   "cell_type": "code",
   "execution_count": 7,
   "id": "18ccf60b",
   "metadata": {
    "execution": {
     "iopub.execute_input": "2021-12-31T08:32:12.478510Z",
     "iopub.status.busy": "2021-12-31T08:32:12.477849Z",
     "iopub.status.idle": "2021-12-31T08:32:12.723657Z",
     "shell.execute_reply": "2021-12-31T08:32:12.724162Z",
     "shell.execute_reply.started": "2021-12-31T08:14:50.632865Z"
    },
    "papermill": {
     "duration": 0.327404,
     "end_time": "2021-12-31T08:32:12.724397",
     "exception": false,
     "start_time": "2021-12-31T08:32:12.396993",
     "status": "completed"
    },
    "tags": []
   },
   "outputs": [
    {
     "data": {
      "image/png": "[encoded data removed]",
      "text/plain": [
       "<Figure size 432x288 with 1 Axes>"
      ]
     },
     "metadata": {},
     "output_type": "display_data"
    }
   ],
   "source": [
    "fig, ax = plt.subplots()\n",
    "ax.scatter(x = train['GrLivArea'], y = train['SalePrice'])\n",
    "plt.ylabel('SalePrice', fontsize=13)\n",
    "plt.xlabel('GrLivArea', fontsize=13)\n",
    "plt.show()"
   ]
  },
  {
   "cell_type": "code",
   "execution_count": 8,
   "id": "d5bb081a",
   "metadata": {
    "execution": {
     "iopub.execute_input": "2021-12-31T08:32:12.884620Z",
     "iopub.status.busy": "2021-12-31T08:32:12.883996Z",
     "iopub.status.idle": "2021-12-31T08:32:12.889990Z",
     "shell.execute_reply": "2021-12-31T08:32:12.890570Z",
     "shell.execute_reply.started": "2021-12-31T08:14:50.860258Z"
    },
    "papermill": {
     "duration": 0.087828,
     "end_time": "2021-12-31T08:32:12.890743",
     "exception": false,
     "start_time": "2021-12-31T08:32:12.802915",
     "status": "completed"
    },
    "tags": []
   },
   "outputs": [],
   "source": [
    "#Deleting outliers\n",
    "train = train.drop(train[(train['GrLivArea']>4000) & (train['SalePrice']<300000)].index)"
   ]
  },
  {
   "cell_type": "markdown",
   "id": "cfbeb8fa",
   "metadata": {
    "papermill": {
     "duration": 0.079183,
     "end_time": "2021-12-31T08:32:13.048094",
     "exception": false,
     "start_time": "2021-12-31T08:32:12.968911",
     "status": "completed"
    },
    "tags": []
   },
   "source": [
    "We can clearly see that for GrLivArea > 4000, there are two SalePrices which are extremely small. This seems ireasonable, so we will remove them."
   ]
  },
  {
   "cell_type": "code",
   "execution_count": 9,
   "id": "8eab9644",
   "metadata": {
    "execution": {
     "iopub.execute_input": "2021-12-31T08:32:13.207560Z",
     "iopub.status.busy": "2021-12-31T08:32:13.206889Z",
     "iopub.status.idle": "2021-12-31T08:32:13.621009Z",
     "shell.execute_reply": "2021-12-31T08:32:13.620318Z",
     "shell.execute_reply.started": "2021-12-31T08:14:50.867914Z"
    },
    "papermill": {
     "duration": 0.494578,
     "end_time": "2021-12-31T08:32:13.621147",
     "exception": false,
     "start_time": "2021-12-31T08:32:13.126569",
     "status": "completed"
    },
    "tags": []
   },
   "outputs": [
    {
     "data": {
      "image/png": "[encoded data removed]",
      "text/plain": [
       "<Figure size 576x432 with 1 Axes>"
      ]
     },
     "metadata": {},
     "output_type": "display_data"
    }
   ],
   "source": [
    "data = pd.concat([train['SalePrice'], train['OverallQual']], axis=1)\n",
    "f, ax = plt.subplots(figsize=(8, 6))\n",
    "fig = sns.boxplot(x=train['OverallQual'], y=\"SalePrice\", data=data)\n",
    "fig.axis(ymin=0, ymax=800000);"
   ]
  },
  {
   "cell_type": "markdown",
   "id": "91ba9e98",
   "metadata": {
    "papermill": {
     "duration": 0.079039,
     "end_time": "2021-12-31T08:32:13.779497",
     "exception": false,
     "start_time": "2021-12-31T08:32:13.700458",
     "status": "completed"
    },
    "tags": []
   },
   "source": [
    "## Target variable engineering"
   ]
  },
  {
   "cell_type": "markdown",
   "id": "9d2ed03e",
   "metadata": {
    "papermill": {
     "duration": 0.079071,
     "end_time": "2021-12-31T08:32:13.937853",
     "exception": false,
     "start_time": "2021-12-31T08:32:13.858782",
     "status": "completed"
    },
    "tags": []
   },
   "source": [
    "Let's look at the histogram of the target variable \"SalePrice\", and compare it to a normal distribution with SalePrice mean and SalePrice std"
   ]
  },
  {
   "cell_type": "code",
   "execution_count": 10,
   "id": "0658c695",
   "metadata": {
    "execution": {
     "iopub.execute_input": "2021-12-31T08:32:14.102503Z",
     "iopub.status.busy": "2021-12-31T08:32:14.101826Z",
     "iopub.status.idle": "2021-12-31T08:32:14.776498Z",
     "shell.execute_reply": "2021-12-31T08:32:14.775961Z",
     "shell.execute_reply.started": "2021-12-31T08:14:51.230322Z"
    },
    "papermill": {
     "duration": 0.758177,
     "end_time": "2021-12-31T08:32:14.776644",
     "exception": false,
     "start_time": "2021-12-31T08:32:14.018467",
     "status": "completed"
    },
    "tags": []
   },
   "outputs": [
    {
     "name": "stdout",
     "output_type": "stream",
     "text": [
      "\n",
      " mu = 180932.92 and sigma = 79467.79\n",
      "\n"
     ]
    },
    {
     "data": {
      "image/png": "[encoded data removed]",
      "text/plain": [
       "<Figure size 432x288 with 1 Axes>"
      ]
     },
     "metadata": {},
     "output_type": "display_data"
    },
    {
     "data": {
      "image/png": "[encoded data removed]",
      "text/plain": [
       "<Figure size 432x288 with 1 Axes>"
      ]
     },
     "metadata": {},
     "output_type": "display_data"
    }
   ],
   "source": [
    "def check_skewness(col):\n",
    "    sns.distplot(train[col] , fit=norm);\n",
    "    fig = plt.figure()\n",
    "    res = stats.probplot(train[col], plot=plt)\n",
    "    (mu, sigma) = norm.fit(train[col])\n",
    "    print( '\\n mu = {:.2f} and sigma = {:.2f}\\n'.format(mu, sigma))\n",
    "check_skewness('SalePrice')"
   ]
  },
  {
   "cell_type": "code",
   "execution_count": 11,
   "id": "f4266ac4",
   "metadata": {
    "execution": {
     "iopub.execute_input": "2021-12-31T08:32:14.948285Z",
     "iopub.status.busy": "2021-12-31T08:32:14.947600Z",
     "iopub.status.idle": "2021-12-31T08:32:15.616391Z",
     "shell.execute_reply": "2021-12-31T08:32:15.615758Z",
     "shell.execute_reply.started": "2021-12-31T08:14:51.842810Z"
    },
    "papermill": {
     "duration": 0.754919,
     "end_time": "2021-12-31T08:32:15.616543",
     "exception": false,
     "start_time": "2021-12-31T08:32:14.861624",
     "status": "completed"
    },
    "tags": []
   },
   "outputs": [
    {
     "name": "stdout",
     "output_type": "stream",
     "text": [
      "\n",
      " mu = 180932.92 and sigma = 79467.79\n",
      "\n"
     ]
    },
    {
     "data": {
      "image/png": "[encoded data removed]",
      "text/plain": [
       "<Figure size 432x288 with 1 Axes>"
      ]
     },
     "metadata": {},
     "output_type": "display_data"
    },
    {
     "data": {
      "image/png": "[encoded data removed]",
      "text/plain": [
       "<Figure size 432x288 with 1 Axes>"
      ]
     },
     "metadata": {},
     "output_type": "display_data"
    }
   ],
   "source": [
    "check_skewness('SalePrice')"
   ]
  },
  {
   "cell_type": "markdown",
   "id": "dcc9c667",
   "metadata": {
    "papermill": {
     "duration": 0.084925,
     "end_time": "2021-12-31T08:32:15.786568",
     "exception": false,
     "start_time": "2021-12-31T08:32:15.701643",
     "status": "completed"
    },
    "tags": []
   },
   "source": [
    "We can see that SalePrice distribution is not close to normal distribution. As we learned in lectures we can conclude from the QQplot that the SalePrice distribution is positively skewed."
   ]
  },
  {
   "cell_type": "markdown",
   "id": "281eac21",
   "metadata": {
    "papermill": {
     "duration": 0.083237,
     "end_time": "2021-12-31T08:32:15.955591",
     "exception": false,
     "start_time": "2021-12-31T08:32:15.872354",
     "status": "completed"
    },
    "tags": []
   },
   "source": [
    "As LR models assume normal distributions, we will apply log transform to fix this skewness which is actuualy $log(1+x)$"
   ]
  },
  {
   "cell_type": "code",
   "execution_count": 12,
   "id": "649d5456",
   "metadata": {
    "execution": {
     "iopub.execute_input": "2021-12-31T08:32:16.132812Z",
     "iopub.status.busy": "2021-12-31T08:32:16.130225Z",
     "iopub.status.idle": "2021-12-31T08:32:16.136500Z",
     "shell.execute_reply": "2021-12-31T08:32:16.135848Z",
     "shell.execute_reply.started": "2021-12-31T08:14:52.438151Z"
    },
    "papermill": {
     "duration": 0.094384,
     "end_time": "2021-12-31T08:32:16.136644",
     "exception": false,
     "start_time": "2021-12-31T08:32:16.042260",
     "status": "completed"
    },
    "tags": []
   },
   "outputs": [],
   "source": [
    "train[\"SalePrice\"] = np.log1p(train[\"SalePrice\"])"
   ]
  },
  {
   "cell_type": "markdown",
   "id": "223646c2",
   "metadata": {
    "papermill": {
     "duration": 0.083431,
     "end_time": "2021-12-31T08:32:16.305013",
     "exception": false,
     "start_time": "2021-12-31T08:32:16.221582",
     "status": "completed"
    },
    "tags": []
   },
   "source": [
    "Now let's look at the transformed distribution and compare it to normal distribution"
   ]
  },
  {
   "cell_type": "code",
   "execution_count": 13,
   "id": "273ec3d5",
   "metadata": {
    "execution": {
     "iopub.execute_input": "2021-12-31T08:32:16.490072Z",
     "iopub.status.busy": "2021-12-31T08:32:16.489374Z",
     "iopub.status.idle": "2021-12-31T08:32:17.155690Z",
     "shell.execute_reply": "2021-12-31T08:32:17.156170Z",
     "shell.execute_reply.started": "2021-12-31T08:14:52.445921Z"
    },
    "papermill": {
     "duration": 0.765788,
     "end_time": "2021-12-31T08:32:17.156364",
     "exception": false,
     "start_time": "2021-12-31T08:32:16.390576",
     "status": "completed"
    },
    "tags": []
   },
   "outputs": [
    {
     "name": "stdout",
     "output_type": "stream",
     "text": [
      "\n",
      " mu = 12.02 and sigma = 0.40\n",
      "\n"
     ]
    },
    {
     "data": {
      "image/png": "[encoded data removed]",
      "text/plain": [
       "<Figure size 432x288 with 1 Axes>"
      ]
     },
     "metadata": {},
     "output_type": "display_data"
    },
    {
     "data": {
      "image/png": "[encoded data removed]",
      "text/plain": [
       "<Figure size 432x288 with 1 Axes>"
      ]
     },
     "metadata": {},
     "output_type": "display_data"
    }
   ],
   "source": [
    "check_skewness('SalePrice')"
   ]
  },
  {
   "cell_type": "markdown",
   "id": "8010d077",
   "metadata": {
    "papermill": {
     "duration": 0.089889,
     "end_time": "2021-12-31T08:32:17.332141",
     "exception": false,
     "start_time": "2021-12-31T08:32:17.242252",
     "status": "completed"
    },
    "tags": []
   },
   "source": [
    "We see that SalePrice disribution is now much closer to normal distribution!"
   ]
  },
  {
   "cell_type": "markdown",
   "id": "766e7e91",
   "metadata": {
    "papermill": {
     "duration": 0.086094,
     "end_time": "2021-12-31T08:32:17.504659",
     "exception": false,
     "start_time": "2021-12-31T08:32:17.418565",
     "status": "completed"
    },
    "tags": []
   },
   "source": [
    "# Feature Enginerring"
   ]
  },
  {
   "cell_type": "markdown",
   "id": "494b07a8",
   "metadata": {
    "papermill": {
     "duration": 0.086257,
     "end_time": "2021-12-31T08:32:17.677339",
     "exception": false,
     "start_time": "2021-12-31T08:32:17.591082",
     "status": "completed"
    },
    "tags": []
   },
   "source": [
    "First, we creat all_data set of both training and test set, as we want to apply the same operations on both of them."
   ]
  },
  {
   "cell_type": "code",
   "execution_count": 14,
   "id": "3c0d1e12",
   "metadata": {
    "execution": {
     "iopub.execute_input": "2021-12-31T08:32:17.858860Z",
     "iopub.status.busy": "2021-12-31T08:32:17.858096Z",
     "iopub.status.idle": "2021-12-31T08:32:17.884972Z",
     "shell.execute_reply": "2021-12-31T08:32:17.885484Z",
     "shell.execute_reply.started": "2021-12-31T08:14:53.063383Z"
    },
    "papermill": {
     "duration": 0.121132,
     "end_time": "2021-12-31T08:32:17.885659",
     "exception": false,
     "start_time": "2021-12-31T08:32:17.764527",
     "status": "completed"
    },
    "tags": []
   },
   "outputs": [
    {
     "name": "stdout",
     "output_type": "stream",
     "text": [
      "all_data size is : (2917, 79)\n"
     ]
    }
   ],
   "source": [
    "ntrain = train.shape[0]\n",
    "ntest = test.shape[0]\n",
    "y_train = train.SalePrice.values\n",
    "all_data = pd.concat((train, test)).reset_index(drop=True)\n",
    "all_data.drop(['SalePrice'], axis=1, inplace=True)\n",
    "print(\"all_data size is : {}\".format(all_data.shape))"
   ]
  },
  {
   "cell_type": "markdown",
   "id": "c394f78a",
   "metadata": {
    "papermill": {
     "duration": 0.086747,
     "end_time": "2021-12-31T08:32:18.059620",
     "exception": false,
     "start_time": "2021-12-31T08:32:17.972873",
     "status": "completed"
    },
    "tags": []
   },
   "source": [
    "## Dealing with missing data"
   ]
  },
  {
   "cell_type": "code",
   "execution_count": 15,
   "id": "43151426",
   "metadata": {
    "execution": {
     "iopub.execute_input": "2021-12-31T08:32:18.235419Z",
     "iopub.status.busy": "2021-12-31T08:32:18.234727Z",
     "iopub.status.idle": "2021-12-31T08:32:18.261466Z",
     "shell.execute_reply": "2021-12-31T08:32:18.262048Z",
     "shell.execute_reply.started": "2021-12-31T08:14:53.092857Z"
    },
    "papermill": {
     "duration": 0.116518,
     "end_time": "2021-12-31T08:32:18.262214",
     "exception": false,
     "start_time": "2021-12-31T08:32:18.145696",
     "status": "completed"
    },
    "tags": []
   },
   "outputs": [
    {
     "data": {
      "text/html": [
       "<div>\n",
       "<style scoped>\n",
       "    .dataframe tbody tr th:only-of-type {\n",
       "        vertical-align: middle;\n",
       "    }\n",
       "\n",
       "    .dataframe tbody tr th {\n",
       "        vertical-align: top;\n",
       "    }\n",
       "\n",
       "    .dataframe thead th {\n",
       "        text-align: right;\n",
       "    }\n",
       "</style>\n",
       "<table border=\"1\" class=\"dataframe\">\n",
       "  <thead>\n",
       "    <tr style=\"text-align: right;\">\n",
       "      <th></th>\n",
       "      <th>Missing Ratio</th>\n",
       "    </tr>\n",
       "  </thead>\n",
       "  <tbody>\n",
       "    <tr>\n",
       "      <th>PoolQC</th>\n",
       "      <td>99.691464</td>\n",
       "    </tr>\n",
       "    <tr>\n",
       "      <th>MiscFeature</th>\n",
       "      <td>96.400411</td>\n",
       "    </tr>\n",
       "    <tr>\n",
       "      <th>Alley</th>\n",
       "      <td>93.212204</td>\n",
       "    </tr>\n",
       "    <tr>\n",
       "      <th>Fence</th>\n",
       "      <td>80.425094</td>\n",
       "    </tr>\n",
       "    <tr>\n",
       "      <th>FireplaceQu</th>\n",
       "      <td>48.680151</td>\n",
       "    </tr>\n",
       "    <tr>\n",
       "      <th>LotFrontage</th>\n",
       "      <td>16.660953</td>\n",
       "    </tr>\n",
       "    <tr>\n",
       "      <th>GarageFinish</th>\n",
       "      <td>5.450806</td>\n",
       "    </tr>\n",
       "    <tr>\n",
       "      <th>GarageQual</th>\n",
       "      <td>5.450806</td>\n",
       "    </tr>\n",
       "    <tr>\n",
       "      <th>GarageCond</th>\n",
       "      <td>5.450806</td>\n",
       "    </tr>\n",
       "    <tr>\n",
       "      <th>GarageYrBlt</th>\n",
       "      <td>5.450806</td>\n",
       "    </tr>\n",
       "  </tbody>\n",
       "</table>\n",
       "</div>"
      ],
      "text/plain": [
       "              Missing Ratio\n",
       "PoolQC            99.691464\n",
       "MiscFeature       96.400411\n",
       "Alley             93.212204\n",
       "Fence             80.425094\n",
       "FireplaceQu       48.680151\n",
       "LotFrontage       16.660953\n",
       "GarageFinish       5.450806\n",
       "GarageQual         5.450806\n",
       "GarageCond         5.450806\n",
       "GarageYrBlt        5.450806"
      ]
     },
     "execution_count": 15,
     "metadata": {},
     "output_type": "execute_result"
    }
   ],
   "source": [
    "#Get missing data percentages\n",
    "all_data_na = (all_data.isnull().sum() / len(all_data)) * 100\n",
    "#remove features with no missing values and sort\n",
    "all_data_na = all_data_na.drop(all_data_na[all_data_na == 0].index).sort_values(ascending=False)[:30]\n",
    "missing_data = pd.DataFrame({'Missing Ratio' :all_data_na})\n",
    "missing_data.head(10)"
   ]
  },
  {
   "cell_type": "markdown",
   "id": "2c9dadaf",
   "metadata": {
    "papermill": {
     "duration": 0.093621,
     "end_time": "2021-12-31T08:32:18.442681",
     "exception": false,
     "start_time": "2021-12-31T08:32:18.349060",
     "status": "completed"
    },
    "tags": []
   },
   "source": [
    "We can see that PollQC has 99.69% of missing data, which means that most of the values are missing.\n",
    "MiscFeatures, Alley, and Fence are also with high missing ratio.\n",
    "\n",
    "Note that GarageFinish, GarageQual, GarageCond, GarageYrBlt has the exact same missing ratio."
   ]
  },
  {
   "cell_type": "code",
   "execution_count": 16,
   "id": "f44010a3",
   "metadata": {
    "execution": {
     "iopub.execute_input": "2021-12-31T08:32:18.621838Z",
     "iopub.status.busy": "2021-12-31T08:32:18.621107Z",
     "iopub.status.idle": "2021-12-31T08:32:19.195467Z",
     "shell.execute_reply": "2021-12-31T08:32:19.194867Z",
     "shell.execute_reply.started": "2021-12-31T08:14:53.115338Z"
    },
    "papermill": {
     "duration": 0.665391,
     "end_time": "2021-12-31T08:32:19.195614",
     "exception": false,
     "start_time": "2021-12-31T08:32:18.530223",
     "status": "completed"
    },
    "tags": []
   },
   "outputs": [
    {
     "data": {
      "text/plain": [
       "Text(0.5, 1.0, 'Percentage of missing data VS Feature')"
      ]
     },
     "execution_count": 16,
     "metadata": {},
     "output_type": "execute_result"
    },
    {
     "data": {
      "image/png": "[encoded data removed]",
      "text/plain": [
       "<Figure size 432x288 with 1 Axes>"
      ]
     },
     "metadata": {},
     "output_type": "display_data"
    }
   ],
   "source": [
    "plt.xticks(rotation='90')\n",
    "sns.barplot(x=all_data_na.index, y=all_data_na, palette=\"Blues_d\")\n",
    "plt.xlabel('Features', fontsize=15)\n",
    "plt.ylabel('Missing Values (%)', fontsize=15)\n",
    "plt.title('Percentage of missing data VS Feature', fontsize=15)\n"
   ]
  },
  {
   "cell_type": "markdown",
   "id": "34ec15a7",
   "metadata": {
    "papermill": {
     "duration": 0.089175,
     "end_time": "2021-12-31T08:32:19.373896",
     "exception": false,
     "start_time": "2021-12-31T08:32:19.284721",
     "status": "completed"
    },
    "tags": []
   },
   "source": [
    "According to this data set documentation, some null values means that the corresponded feature does not exists. Thus, we will replace these null values with 'None'."
   ]
  },
  {
   "cell_type": "code",
   "execution_count": 17,
   "id": "e49e98a5",
   "metadata": {
    "execution": {
     "iopub.execute_input": "2021-12-31T08:32:19.566555Z",
     "iopub.status.busy": "2021-12-31T08:32:19.565691Z",
     "iopub.status.idle": "2021-12-31T08:32:19.569447Z",
     "shell.execute_reply": "2021-12-31T08:32:19.568851Z",
     "shell.execute_reply.started": "2021-12-31T08:14:53.582167Z"
    },
    "papermill": {
     "duration": 0.104837,
     "end_time": "2021-12-31T08:32:19.569595",
     "exception": false,
     "start_time": "2021-12-31T08:32:19.464758",
     "status": "completed"
    },
    "tags": []
   },
   "outputs": [],
   "source": [
    "for col in ['PoolQC', 'MiscFeature', 'Alley', 'Fence', 'FireplaceQu', 'GarageType', 'GarageFinish', 'GarageQual', 'GarageCond']:\n",
    "    all_data[col] = all_data[col].fillna('None')"
   ]
  },
  {
   "cell_type": "markdown",
   "id": "766bd943",
   "metadata": {
    "papermill": {
     "duration": 0.087963,
     "end_time": "2021-12-31T08:32:19.746737",
     "exception": false,
     "start_time": "2021-12-31T08:32:19.658774",
     "status": "completed"
    },
    "tags": []
   },
   "source": [
    "fill null with zeros as no garage implies no cars"
   ]
  },
  {
   "cell_type": "code",
   "execution_count": 18,
   "id": "e7a42889",
   "metadata": {
    "execution": {
     "iopub.execute_input": "2021-12-31T08:32:19.932027Z",
     "iopub.status.busy": "2021-12-31T08:32:19.931366Z",
     "iopub.status.idle": "2021-12-31T08:32:19.933944Z",
     "shell.execute_reply": "2021-12-31T08:32:19.934537Z",
     "shell.execute_reply.started": "2021-12-31T08:14:53.592507Z"
    },
    "papermill": {
     "duration": 0.099026,
     "end_time": "2021-12-31T08:32:19.934707",
     "exception": false,
     "start_time": "2021-12-31T08:32:19.835681",
     "status": "completed"
    },
    "tags": []
   },
   "outputs": [],
   "source": [
    "for col in ('GarageYrBlt', 'GarageArea', 'GarageCars'):\n",
    "    all_data[col] = all_data[col].fillna(0)"
   ]
  },
  {
   "cell_type": "markdown",
   "id": "e8c69c88",
   "metadata": {
    "papermill": {
     "duration": 0.090217,
     "end_time": "2021-12-31T08:32:20.113485",
     "exception": false,
     "start_time": "2021-12-31T08:32:20.023268",
     "status": "completed"
    },
    "tags": []
   },
   "source": [
    "Using the median LotFrontage of all the neighborhood to complete its missing values."
   ]
  },
  {
   "cell_type": "code",
   "execution_count": 19,
   "id": "974598cb",
   "metadata": {
    "execution": {
     "iopub.execute_input": "2021-12-31T08:32:20.294199Z",
     "iopub.status.busy": "2021-12-31T08:32:20.293554Z",
     "iopub.status.idle": "2021-12-31T08:32:20.307866Z",
     "shell.execute_reply": "2021-12-31T08:32:20.308403Z",
     "shell.execute_reply.started": "2021-12-31T08:14:53.605176Z"
    },
    "papermill": {
     "duration": 0.106613,
     "end_time": "2021-12-31T08:32:20.308581",
     "exception": false,
     "start_time": "2021-12-31T08:32:20.201968",
     "status": "completed"
    },
    "tags": []
   },
   "outputs": [],
   "source": [
    "#Group by neighborhood and fill in missing value by the median LotFrontage of all the neighborhood\n",
    "all_data[\"LotFrontage\"] = all_data.groupby(\"Neighborhood\")[\"LotFrontage\"].transform(\n",
    "    lambda x: x.fillna(x.median()))"
   ]
  },
  {
   "cell_type": "markdown",
   "id": "bedbfac5",
   "metadata": {
    "papermill": {
     "duration": 0.088518,
     "end_time": "2021-12-31T08:32:20.485854",
     "exception": false,
     "start_time": "2021-12-31T08:32:20.397336",
     "status": "completed"
    },
    "tags": []
   },
   "source": [
    "missing values are zeros because null means no basement"
   ]
  },
  {
   "cell_type": "code",
   "execution_count": 20,
   "id": "b92d20f6",
   "metadata": {
    "execution": {
     "iopub.execute_input": "2021-12-31T08:32:20.666342Z",
     "iopub.status.busy": "2021-12-31T08:32:20.665659Z",
     "iopub.status.idle": "2021-12-31T08:32:20.671011Z",
     "shell.execute_reply": "2021-12-31T08:32:20.671562Z",
     "shell.execute_reply.started": "2021-12-31T08:14:53.628355Z"
    },
    "papermill": {
     "duration": 0.097192,
     "end_time": "2021-12-31T08:32:20.671732",
     "exception": false,
     "start_time": "2021-12-31T08:32:20.574540",
     "status": "completed"
    },
    "tags": []
   },
   "outputs": [],
   "source": [
    "for col in ('BsmtFinSF1', 'BsmtFinSF2', 'BsmtUnfSF','TotalBsmtSF', 'BsmtFullBath', 'BsmtHalfBath'):\n",
    "    all_data[col] = all_data[col].fillna(0)"
   ]
  },
  {
   "cell_type": "markdown",
   "id": "d2ac74ce",
   "metadata": {
    "papermill": {
     "duration": 0.088573,
     "end_time": "2021-12-31T08:32:20.848964",
     "exception": false,
     "start_time": "2021-12-31T08:32:20.760391",
     "status": "completed"
    },
    "tags": []
   },
   "source": [
    "The same for categorical basement features, but we have to replace nulls with 'None'"
   ]
  },
  {
   "cell_type": "code",
   "execution_count": 21,
   "id": "bad5d824",
   "metadata": {
    "execution": {
     "iopub.execute_input": "2021-12-31T08:32:21.031943Z",
     "iopub.status.busy": "2021-12-31T08:32:21.031314Z",
     "iopub.status.idle": "2021-12-31T08:32:21.039137Z",
     "shell.execute_reply": "2021-12-31T08:32:21.039839Z",
     "shell.execute_reply.started": "2021-12-31T08:14:53.636423Z"
    },
    "papermill": {
     "duration": 0.100885,
     "end_time": "2021-12-31T08:32:21.040017",
     "exception": false,
     "start_time": "2021-12-31T08:32:20.939132",
     "status": "completed"
    },
    "tags": []
   },
   "outputs": [],
   "source": [
    "for col in ('BsmtQual', 'BsmtCond', 'BsmtExposure', 'BsmtFinType1', 'BsmtFinType2'):\n",
    "    all_data[col] = all_data[col].fillna('None')"
   ]
  },
  {
   "cell_type": "markdown",
   "id": "459c45e3",
   "metadata": {
    "papermill": {
     "duration": 0.088263,
     "end_time": "2021-12-31T08:32:21.219301",
     "exception": false,
     "start_time": "2021-12-31T08:32:21.131038",
     "status": "completed"
    },
    "tags": []
   },
   "source": [
    "Same Here"
   ]
  },
  {
   "cell_type": "code",
   "execution_count": 22,
   "id": "0802c3a8",
   "metadata": {
    "execution": {
     "iopub.execute_input": "2021-12-31T08:32:21.402281Z",
     "iopub.status.busy": "2021-12-31T08:32:21.401611Z",
     "iopub.status.idle": "2021-12-31T08:32:21.407149Z",
     "shell.execute_reply": "2021-12-31T08:32:21.407740Z",
     "shell.execute_reply.started": "2021-12-31T08:14:53.650062Z"
    },
    "papermill": {
     "duration": 0.099912,
     "end_time": "2021-12-31T08:32:21.407915",
     "exception": false,
     "start_time": "2021-12-31T08:32:21.308003",
     "status": "completed"
    },
    "tags": []
   },
   "outputs": [],
   "source": [
    "all_data[\"MasVnrType\"] = all_data[\"MasVnrType\"].fillna(\"None\")\n",
    "all_data[\"MasVnrArea\"] = all_data[\"MasVnrArea\"].fillna(0)"
   ]
  },
  {
   "cell_type": "code",
   "execution_count": 23,
   "id": "d4b48ad9",
   "metadata": {
    "execution": {
     "iopub.execute_input": "2021-12-31T08:32:21.588885Z",
     "iopub.status.busy": "2021-12-31T08:32:21.588156Z",
     "iopub.status.idle": "2021-12-31T08:32:21.594968Z",
     "shell.execute_reply": "2021-12-31T08:32:21.595625Z",
     "shell.execute_reply.started": "2021-12-31T08:14:53.661637Z"
    },
    "papermill": {
     "duration": 0.099055,
     "end_time": "2021-12-31T08:32:21.595800",
     "exception": false,
     "start_time": "2021-12-31T08:32:21.496745",
     "status": "completed"
    },
    "tags": []
   },
   "outputs": [
    {
     "data": {
      "text/plain": [
       "RL         2263\n",
       "RM          460\n",
       "FV          139\n",
       "RH           26\n",
       "C (all)      25\n",
       "Name: MSZoning, dtype: int64"
      ]
     },
     "execution_count": 23,
     "metadata": {},
     "output_type": "execute_result"
    }
   ],
   "source": [
    "all_data['MSZoning'].value_counts()"
   ]
  },
  {
   "cell_type": "markdown",
   "id": "a65419c5",
   "metadata": {
    "papermill": {
     "duration": 0.089312,
     "end_time": "2021-12-31T08:32:21.774302",
     "exception": false,
     "start_time": "2021-12-31T08:32:21.684990",
     "status": "completed"
    },
    "tags": []
   },
   "source": [
    "We see that the most common value is 'RL', so we will replace missing values by 'RL'\n",
    "."
   ]
  },
  {
   "cell_type": "code",
   "execution_count": 24,
   "id": "d25e50ea",
   "metadata": {
    "execution": {
     "iopub.execute_input": "2021-12-31T08:32:21.956904Z",
     "iopub.status.busy": "2021-12-31T08:32:21.956198Z",
     "iopub.status.idle": "2021-12-31T08:32:21.960686Z",
     "shell.execute_reply": "2021-12-31T08:32:21.961272Z",
     "shell.execute_reply.started": "2021-12-31T08:14:53.679714Z"
    },
    "papermill": {
     "duration": 0.097266,
     "end_time": "2021-12-31T08:32:21.961443",
     "exception": false,
     "start_time": "2021-12-31T08:32:21.864177",
     "status": "completed"
    },
    "tags": []
   },
   "outputs": [],
   "source": [
    "all_data['MSZoning'] = all_data['MSZoning'].fillna(\"RL\")"
   ]
  },
  {
   "cell_type": "markdown",
   "id": "25d7a826",
   "metadata": {
    "papermill": {
     "duration": 0.091347,
     "end_time": "2021-12-31T08:32:22.142939",
     "exception": false,
     "start_time": "2021-12-31T08:32:22.051592",
     "status": "completed"
    },
    "tags": []
   },
   "source": [
    "For the categorical feature 'Utilities', all records are \"AllPub\", except for one \"NoSeWa\" and 2 NA . Since the house with 'NoSewa' is in the training set, this feature won't help in predictive modelling. We can then safely remove it."
   ]
  },
  {
   "cell_type": "code",
   "execution_count": 25,
   "id": "04a13e3c",
   "metadata": {
    "execution": {
     "iopub.execute_input": "2021-12-31T08:32:22.329234Z",
     "iopub.status.busy": "2021-12-31T08:32:22.328177Z",
     "iopub.status.idle": "2021-12-31T08:32:22.337036Z",
     "shell.execute_reply": "2021-12-31T08:32:22.337624Z",
     "shell.execute_reply.started": "2021-12-31T08:14:53.691868Z"
    },
    "papermill": {
     "duration": 0.105032,
     "end_time": "2021-12-31T08:32:22.337801",
     "exception": false,
     "start_time": "2021-12-31T08:32:22.232769",
     "status": "completed"
    },
    "tags": []
   },
   "outputs": [
    {
     "name": "stdout",
     "output_type": "stream",
     "text": [
      "AllPub    2914\n",
      "NoSeWa       1\n",
      "Name: Utilities, dtype: int64\n"
     ]
    }
   ],
   "source": [
    "print(all_data['Utilities'].value_counts())\n",
    "all_data = all_data.drop(['Utilities'], axis=1)"
   ]
  },
  {
   "cell_type": "markdown",
   "id": "65bea046",
   "metadata": {
    "papermill": {
     "duration": 0.105878,
     "end_time": "2021-12-31T08:32:22.545759",
     "exception": false,
     "start_time": "2021-12-31T08:32:22.439881",
     "status": "completed"
    },
    "tags": []
   },
   "source": [
    "For \"Functional\", data description says NA means typical"
   ]
  },
  {
   "cell_type": "code",
   "execution_count": 26,
   "id": "2fe3ae9f",
   "metadata": {
    "execution": {
     "iopub.execute_input": "2021-12-31T08:32:22.730817Z",
     "iopub.status.busy": "2021-12-31T08:32:22.729776Z",
     "iopub.status.idle": "2021-12-31T08:32:22.735479Z",
     "shell.execute_reply": "2021-12-31T08:32:22.735963Z",
     "shell.execute_reply.started": "2021-12-31T08:14:53.705670Z"
    },
    "papermill": {
     "duration": 0.099222,
     "end_time": "2021-12-31T08:32:22.736143",
     "exception": false,
     "start_time": "2021-12-31T08:32:22.636921",
     "status": "completed"
    },
    "tags": []
   },
   "outputs": [],
   "source": [
    "all_data[\"Functional\"] = all_data[\"Functional\"].fillna(\"Typ\")"
   ]
  },
  {
   "cell_type": "markdown",
   "id": "05e136a8",
   "metadata": {
    "papermill": {
     "duration": 0.091003,
     "end_time": "2021-12-31T08:32:22.917950",
     "exception": false,
     "start_time": "2021-12-31T08:32:22.826947",
     "status": "completed"
    },
    "tags": []
   },
   "source": [
    "Replacing missing categorical features with the most common value:"
   ]
  },
  {
   "cell_type": "code",
   "execution_count": 27,
   "id": "883205fa",
   "metadata": {
    "execution": {
     "iopub.execute_input": "2021-12-31T08:32:23.103592Z",
     "iopub.status.busy": "2021-12-31T08:32:23.102794Z",
     "iopub.status.idle": "2021-12-31T08:32:23.114323Z",
     "shell.execute_reply": "2021-12-31T08:32:23.114811Z",
     "shell.execute_reply.started": "2021-12-31T08:14:53.715013Z"
    },
    "papermill": {
     "duration": 0.107245,
     "end_time": "2021-12-31T08:32:23.114998",
     "exception": false,
     "start_time": "2021-12-31T08:32:23.007753",
     "status": "completed"
    },
    "tags": []
   },
   "outputs": [],
   "source": [
    "mode_col = ['Electrical','KitchenQual', 'Exterior1st', 'Exterior2nd', 'SaleType']\n",
    "for col in mode_col:\n",
    "    all_data[col] = all_data[col].fillna(all_data[col].mode()[0])"
   ]
  },
  {
   "cell_type": "code",
   "execution_count": 28,
   "id": "f959df5d",
   "metadata": {
    "execution": {
     "iopub.execute_input": "2021-12-31T08:32:23.299092Z",
     "iopub.status.busy": "2021-12-31T08:32:23.298459Z",
     "iopub.status.idle": "2021-12-31T08:32:23.324502Z",
     "shell.execute_reply": "2021-12-31T08:32:23.325099Z",
     "shell.execute_reply.started": "2021-12-31T08:14:53.732917Z"
    },
    "papermill": {
     "duration": 0.119471,
     "end_time": "2021-12-31T08:32:23.325299",
     "exception": false,
     "start_time": "2021-12-31T08:32:23.205828",
     "status": "completed"
    },
    "tags": []
   },
   "outputs": [
    {
     "data": {
      "text/html": [
       "<div>\n",
       "<style scoped>\n",
       "    .dataframe tbody tr th:only-of-type {\n",
       "        vertical-align: middle;\n",
       "    }\n",
       "\n",
       "    .dataframe tbody tr th {\n",
       "        vertical-align: top;\n",
       "    }\n",
       "\n",
       "    .dataframe thead th {\n",
       "        text-align: right;\n",
       "    }\n",
       "</style>\n",
       "<table border=\"1\" class=\"dataframe\">\n",
       "  <thead>\n",
       "    <tr style=\"text-align: right;\">\n",
       "      <th></th>\n",
       "      <th>Missing Ratio</th>\n",
       "    </tr>\n",
       "  </thead>\n",
       "  <tbody>\n",
       "  </tbody>\n",
       "</table>\n",
       "</div>"
      ],
      "text/plain": [
       "Empty DataFrame\n",
       "Columns: [Missing Ratio]\n",
       "Index: []"
      ]
     },
     "execution_count": 28,
     "metadata": {},
     "output_type": "execute_result"
    }
   ],
   "source": [
    "#Check remaining missing values if any \n",
    "all_data_na = (all_data.isnull().sum() / len(all_data)) * 100\n",
    "all_data_na = all_data_na.drop(all_data_na[all_data_na == 0].index).sort_values(ascending=False)\n",
    "missing_data = pd.DataFrame({'Missing Ratio' :all_data_na})\n",
    "missing_data.head()"
   ]
  },
  {
   "cell_type": "code",
   "execution_count": 29,
   "id": "be7d1259",
   "metadata": {
    "execution": {
     "iopub.execute_input": "2021-12-31T08:32:23.509323Z",
     "iopub.status.busy": "2021-12-31T08:32:23.508687Z",
     "iopub.status.idle": "2021-12-31T08:32:23.514881Z",
     "shell.execute_reply": "2021-12-31T08:32:23.515425Z",
     "shell.execute_reply.started": "2021-12-31T08:14:53.756606Z"
    },
    "papermill": {
     "duration": 0.100274,
     "end_time": "2021-12-31T08:32:23.515595",
     "exception": false,
     "start_time": "2021-12-31T08:32:23.415321",
     "status": "completed"
    },
    "tags": []
   },
   "outputs": [
    {
     "data": {
      "text/plain": [
       "5    1643\n",
       "6     531\n",
       "7     390\n",
       "8     144\n",
       "4     101\n",
       "3      50\n",
       "9      41\n",
       "2      10\n",
       "1       7\n",
       "Name: OverallCond, dtype: int64"
      ]
     },
     "execution_count": 29,
     "metadata": {},
     "output_type": "execute_result"
    }
   ],
   "source": [
    "all_data['OverallCond'].value_counts()"
   ]
  },
  {
   "cell_type": "markdown",
   "id": "9d44a683",
   "metadata": {
    "papermill": {
     "duration": 0.089758,
     "end_time": "2021-12-31T08:32:23.695301",
     "exception": false,
     "start_time": "2021-12-31T08:32:23.605543",
     "status": "completed"
    },
    "tags": []
   },
   "source": [
    "We see that there is no missing values."
   ]
  },
  {
   "cell_type": "markdown",
   "id": "f31bd474",
   "metadata": {
    "papermill": {
     "duration": 0.089762,
     "end_time": "2021-12-31T08:32:23.875030",
     "exception": false,
     "start_time": "2021-12-31T08:32:23.785268",
     "status": "completed"
    },
    "tags": []
   },
   "source": [
    "Some of the non-numeric predictors are stored as numbers; convert them into strings "
   ]
  },
  {
   "cell_type": "code",
   "execution_count": 30,
   "id": "98bb4364",
   "metadata": {
    "execution": {
     "iopub.execute_input": "2021-12-31T08:32:24.060820Z",
     "iopub.status.busy": "2021-12-31T08:32:24.060016Z",
     "iopub.status.idle": "2021-12-31T08:32:24.080544Z",
     "shell.execute_reply": "2021-12-31T08:32:24.081086Z",
     "shell.execute_reply.started": "2021-12-31T08:14:53.765731Z"
    },
    "papermill": {
     "duration": 0.116301,
     "end_time": "2021-12-31T08:32:24.081321",
     "exception": false,
     "start_time": "2021-12-31T08:32:23.965020",
     "status": "completed"
    },
    "tags": []
   },
   "outputs": [],
   "source": [
    "all_data['MSSubClass'] = all_data['MSSubClass'].apply(str)\n",
    "all_data['OverallCond'] = all_data['OverallCond'].astype(str)\n",
    "all_data['YrSold'] = all_data['YrSold'].astype(str)\n",
    "all_data['MoSold'] = all_data['MoSold'].astype(str)"
   ]
  },
  {
   "cell_type": "markdown",
   "id": "562c4e8f",
   "metadata": {
    "papermill": {
     "duration": 0.090607,
     "end_time": "2021-12-31T08:32:24.263064",
     "exception": false,
     "start_time": "2021-12-31T08:32:24.172457",
     "status": "completed"
    },
    "tags": []
   },
   "source": [
    "## Labels Encoding"
   ]
  },
  {
   "cell_type": "markdown",
   "id": "abb944b7",
   "metadata": {
    "papermill": {
     "duration": 0.089896,
     "end_time": "2021-12-31T08:32:24.444799",
     "exception": false,
     "start_time": "2021-12-31T08:32:24.354903",
     "status": "completed"
    },
    "tags": []
   },
   "source": [
    "We have to encode some non-numerical features to numerical values because the regression algorithms usually works with numbers.\n",
    "We will apply the builtin function LabelEncoder, which encodes $n$ cattegorical features to the numbers $0, 1, 2, ..., n-1$."
   ]
  },
  {
   "cell_type": "code",
   "execution_count": 31,
   "id": "80fc0be6",
   "metadata": {
    "execution": {
     "iopub.execute_input": "2021-12-31T08:32:24.630187Z",
     "iopub.status.busy": "2021-12-31T08:32:24.629508Z",
     "iopub.status.idle": "2021-12-31T08:32:24.840857Z",
     "shell.execute_reply": "2021-12-31T08:32:24.841351Z",
     "shell.execute_reply.started": "2021-12-31T08:14:53.784524Z"
    },
    "papermill": {
     "duration": 0.306939,
     "end_time": "2021-12-31T08:32:24.841534",
     "exception": false,
     "start_time": "2021-12-31T08:32:24.534595",
     "status": "completed"
    },
    "tags": []
   },
   "outputs": [
    {
     "name": "stdout",
     "output_type": "stream",
     "text": [
      "Shape all_data: (2917, 78)\n"
     ]
    }
   ],
   "source": [
    "from sklearn.preprocessing import LabelEncoder\n",
    "cols = ('FireplaceQu', 'BsmtQual', 'BsmtCond', 'GarageQual', 'GarageCond', \n",
    "        'ExterQual', 'ExterCond','HeatingQC', 'PoolQC', 'KitchenQual', 'BsmtFinType1', \n",
    "        'BsmtFinType2', 'Functional', 'Fence', 'BsmtExposure', 'GarageFinish', 'LandSlope',\n",
    "        'LotShape', 'PavedDrive', 'Street', 'Alley', 'CentralAir', 'MSSubClass', 'OverallCond', \n",
    "        'YrSold', 'MoSold')\n",
    "# process columns, apply LabelEncoder to categorical features\n",
    "for c in cols:\n",
    "    lbl = LabelEncoder() \n",
    "    lbl.fit(list(all_data[c].values)) \n",
    "    all_data[c] = lbl.transform(list(all_data[c].values))\n",
    "\n",
    "# shape        \n",
    "print('Shape all_data: {}'.format(all_data.shape))"
   ]
  },
  {
   "cell_type": "markdown",
   "id": "a2e5cf77",
   "metadata": {
    "papermill": {
     "duration": 0.091978,
     "end_time": "2021-12-31T08:32:25.025957",
     "exception": false,
     "start_time": "2021-12-31T08:32:24.933979",
     "status": "completed"
    },
    "tags": []
   },
   "source": [
    "We add one more feature which is the total area of basement, first and second floor areas of each house"
   ]
  },
  {
   "cell_type": "code",
   "execution_count": 32,
   "id": "25731c0a",
   "metadata": {
    "execution": {
     "iopub.execute_input": "2021-12-31T08:32:25.216326Z",
     "iopub.status.busy": "2021-12-31T08:32:25.215377Z",
     "iopub.status.idle": "2021-12-31T08:32:25.218033Z",
     "shell.execute_reply": "2021-12-31T08:32:25.217440Z",
     "shell.execute_reply.started": "2021-12-31T08:14:53.947468Z"
    },
    "papermill": {
     "duration": 0.09938,
     "end_time": "2021-12-31T08:32:25.218170",
     "exception": false,
     "start_time": "2021-12-31T08:32:25.118790",
     "status": "completed"
    },
    "tags": []
   },
   "outputs": [],
   "source": [
    "# Adding total sqfootage feature \n",
    "all_data['TotalSF'] = all_data['TotalBsmtSF'] + all_data['1stFlrSF'] + all_data['2ndFlrSF']"
   ]
  },
  {
   "cell_type": "markdown",
   "id": "3c37c994",
   "metadata": {
    "papermill": {
     "duration": 0.091877,
     "end_time": "2021-12-31T08:32:25.400953",
     "exception": false,
     "start_time": "2021-12-31T08:32:25.309076",
     "status": "completed"
    },
    "tags": []
   },
   "source": [
    "## fix features skewness"
   ]
  },
  {
   "cell_type": "code",
   "execution_count": 33,
   "id": "6980cec0",
   "metadata": {
    "execution": {
     "iopub.execute_input": "2021-12-31T08:32:25.586044Z",
     "iopub.status.busy": "2021-12-31T08:32:25.585446Z",
     "iopub.status.idle": "2021-12-31T08:32:25.619642Z",
     "shell.execute_reply": "2021-12-31T08:32:25.620113Z",
     "shell.execute_reply.started": "2021-12-31T08:14:53.954399Z"
    },
    "papermill": {
     "duration": 0.127898,
     "end_time": "2021-12-31T08:32:25.620322",
     "exception": false,
     "start_time": "2021-12-31T08:32:25.492424",
     "status": "completed"
    },
    "tags": []
   },
   "outputs": [
    {
     "name": "stdout",
     "output_type": "stream",
     "text": [
      "\n",
      "Skew in numerical features: \n",
      "\n"
     ]
    },
    {
     "data": {
      "text/html": [
       "<div>\n",
       "<style scoped>\n",
       "    .dataframe tbody tr th:only-of-type {\n",
       "        vertical-align: middle;\n",
       "    }\n",
       "\n",
       "    .dataframe tbody tr th {\n",
       "        vertical-align: top;\n",
       "    }\n",
       "\n",
       "    .dataframe thead th {\n",
       "        text-align: right;\n",
       "    }\n",
       "</style>\n",
       "<table border=\"1\" class=\"dataframe\">\n",
       "  <thead>\n",
       "    <tr style=\"text-align: right;\">\n",
       "      <th></th>\n",
       "      <th>Skew</th>\n",
       "    </tr>\n",
       "  </thead>\n",
       "  <tbody>\n",
       "    <tr>\n",
       "      <th>MiscVal</th>\n",
       "      <td>21.939672</td>\n",
       "    </tr>\n",
       "    <tr>\n",
       "      <th>PoolArea</th>\n",
       "      <td>17.688664</td>\n",
       "    </tr>\n",
       "    <tr>\n",
       "      <th>LotArea</th>\n",
       "      <td>13.109495</td>\n",
       "    </tr>\n",
       "    <tr>\n",
       "      <th>LowQualFinSF</th>\n",
       "      <td>12.084539</td>\n",
       "    </tr>\n",
       "    <tr>\n",
       "      <th>3SsnPorch</th>\n",
       "      <td>11.372080</td>\n",
       "    </tr>\n",
       "    <tr>\n",
       "      <th>LandSlope</th>\n",
       "      <td>4.973254</td>\n",
       "    </tr>\n",
       "    <tr>\n",
       "      <th>KitchenAbvGr</th>\n",
       "      <td>4.300550</td>\n",
       "    </tr>\n",
       "    <tr>\n",
       "      <th>BsmtFinSF2</th>\n",
       "      <td>4.144503</td>\n",
       "    </tr>\n",
       "    <tr>\n",
       "      <th>EnclosedPorch</th>\n",
       "      <td>4.002344</td>\n",
       "    </tr>\n",
       "    <tr>\n",
       "      <th>ScreenPorch</th>\n",
       "      <td>3.945101</td>\n",
       "    </tr>\n",
       "    <tr>\n",
       "      <th>BsmtHalfBath</th>\n",
       "      <td>3.929996</td>\n",
       "    </tr>\n",
       "    <tr>\n",
       "      <th>MasVnrArea</th>\n",
       "      <td>2.621719</td>\n",
       "    </tr>\n",
       "    <tr>\n",
       "      <th>OpenPorchSF</th>\n",
       "      <td>2.529358</td>\n",
       "    </tr>\n",
       "    <tr>\n",
       "      <th>WoodDeckSF</th>\n",
       "      <td>1.844792</td>\n",
       "    </tr>\n",
       "    <tr>\n",
       "      <th>1stFlrSF</th>\n",
       "      <td>1.257286</td>\n",
       "    </tr>\n",
       "  </tbody>\n",
       "</table>\n",
       "</div>"
      ],
      "text/plain": [
       "                    Skew\n",
       "MiscVal        21.939672\n",
       "PoolArea       17.688664\n",
       "LotArea        13.109495\n",
       "LowQualFinSF   12.084539\n",
       "3SsnPorch      11.372080\n",
       "LandSlope       4.973254\n",
       "KitchenAbvGr    4.300550\n",
       "BsmtFinSF2      4.144503\n",
       "EnclosedPorch   4.002344\n",
       "ScreenPorch     3.945101\n",
       "BsmtHalfBath    3.929996\n",
       "MasVnrArea      2.621719\n",
       "OpenPorchSF     2.529358\n",
       "WoodDeckSF      1.844792\n",
       "1stFlrSF        1.257286"
      ]
     },
     "execution_count": 33,
     "metadata": {},
     "output_type": "execute_result"
    }
   ],
   "source": [
    "numeric_feats = all_data.dtypes[all_data.dtypes != \"object\"].index\n",
    "\n",
    "# Check the skew of all numerical features\n",
    "skewed_feats = all_data[numeric_feats].apply(lambda x: skew(x.dropna())).sort_values(ascending=False)\n",
    "print(\"\\nSkew in numerical features: \\n\")\n",
    "skewness = pd.DataFrame({'Skew' :skewed_feats})\n",
    "skewness.head(15)"
   ]
  },
  {
   "cell_type": "markdown",
   "id": "ddc9d23b",
   "metadata": {
    "papermill": {
     "duration": 0.092029,
     "end_time": "2021-12-31T08:32:25.803202",
     "exception": false,
     "start_time": "2021-12-31T08:32:25.711173",
     "status": "completed"
    },
    "tags": []
   },
   "source": [
    "Now we will apply Box Cox transformation to fix skewness for numerical features that aheir absolute skewness value is larger than 0.75"
   ]
  },
  {
   "cell_type": "markdown",
   "id": "3766565f",
   "metadata": {
    "papermill": {
     "duration": 0.091524,
     "end_time": "2021-12-31T08:32:25.986181",
     "exception": false,
     "start_time": "2021-12-31T08:32:25.894657",
     "status": "completed"
    },
    "tags": []
   },
   "source": [
    "We used $\\lambda = 0.15$, so $BoxCox(x) = \\frac{(1+x)^{\\lambda}-1}{\\lambda}$"
   ]
  },
  {
   "cell_type": "code",
   "execution_count": 34,
   "id": "d240214d",
   "metadata": {
    "execution": {
     "iopub.execute_input": "2021-12-31T08:32:26.175355Z",
     "iopub.status.busy": "2021-12-31T08:32:26.174556Z",
     "iopub.status.idle": "2021-12-31T08:32:26.209905Z",
     "shell.execute_reply": "2021-12-31T08:32:26.210445Z",
     "shell.execute_reply.started": "2021-12-31T08:14:53.991294Z"
    },
    "papermill": {
     "duration": 0.130891,
     "end_time": "2021-12-31T08:32:26.210618",
     "exception": false,
     "start_time": "2021-12-31T08:32:26.079727",
     "status": "completed"
    },
    "tags": []
   },
   "outputs": [
    {
     "name": "stdout",
     "output_type": "stream",
     "text": [
      "There are 59 skewed numerical features to Box Cox transform\n"
     ]
    }
   ],
   "source": [
    "skewness = skewness[abs(skewness) > 0.75]\n",
    "print(\"There are {} skewed numerical features to Box Cox transform\".format(skewness.shape[0]))\n",
    "\n",
    "from scipy.special import boxcox1p\n",
    "skewed_features = skewness.index\n",
    "lam = 0.15\n",
    "for feat in skewed_features:\n",
    "    all_data[feat] = boxcox1p(all_data[feat], lam)"
   ]
  },
  {
   "cell_type": "markdown",
   "id": "b4913293",
   "metadata": {
    "papermill": {
     "duration": 0.091789,
     "end_time": "2021-12-31T08:32:26.393961",
     "exception": false,
     "start_time": "2021-12-31T08:32:26.302172",
     "status": "completed"
    },
    "tags": []
   },
   "source": [
    "Let's check skewness again"
   ]
  },
  {
   "cell_type": "code",
   "execution_count": 35,
   "id": "85bd00d0",
   "metadata": {
    "execution": {
     "iopub.execute_input": "2021-12-31T08:32:26.582269Z",
     "iopub.status.busy": "2021-12-31T08:32:26.581614Z",
     "iopub.status.idle": "2021-12-31T08:32:26.616048Z",
     "shell.execute_reply": "2021-12-31T08:32:26.616548Z",
     "shell.execute_reply.started": "2021-12-31T08:14:54.030617Z"
    },
    "papermill": {
     "duration": 0.129952,
     "end_time": "2021-12-31T08:32:26.616729",
     "exception": false,
     "start_time": "2021-12-31T08:32:26.486777",
     "status": "completed"
    },
    "tags": []
   },
   "outputs": [
    {
     "name": "stdout",
     "output_type": "stream",
     "text": [
      "\n",
      "Skew in numerical features: \n",
      "\n"
     ]
    },
    {
     "data": {
      "text/html": [
       "<div>\n",
       "<style scoped>\n",
       "    .dataframe tbody tr th:only-of-type {\n",
       "        vertical-align: middle;\n",
       "    }\n",
       "\n",
       "    .dataframe tbody tr th {\n",
       "        vertical-align: top;\n",
       "    }\n",
       "\n",
       "    .dataframe thead th {\n",
       "        text-align: right;\n",
       "    }\n",
       "</style>\n",
       "<table border=\"1\" class=\"dataframe\">\n",
       "  <thead>\n",
       "    <tr style=\"text-align: right;\">\n",
       "      <th></th>\n",
       "      <th>Skew</th>\n",
       "    </tr>\n",
       "  </thead>\n",
       "  <tbody>\n",
       "    <tr>\n",
       "      <th>PoolArea</th>\n",
       "      <td>15.759529</td>\n",
       "    </tr>\n",
       "    <tr>\n",
       "      <th>3SsnPorch</th>\n",
       "      <td>8.921650</td>\n",
       "    </tr>\n",
       "    <tr>\n",
       "      <th>LowQualFinSF</th>\n",
       "      <td>8.741030</td>\n",
       "    </tr>\n",
       "    <tr>\n",
       "      <th>MiscVal</th>\n",
       "      <td>5.594963</td>\n",
       "    </tr>\n",
       "    <tr>\n",
       "      <th>LandSlope</th>\n",
       "      <td>4.530264</td>\n",
       "    </tr>\n",
       "    <tr>\n",
       "      <th>BsmtHalfBath</th>\n",
       "      <td>3.786685</td>\n",
       "    </tr>\n",
       "    <tr>\n",
       "      <th>KitchenAbvGr</th>\n",
       "      <td>3.697303</td>\n",
       "    </tr>\n",
       "    <tr>\n",
       "      <th>ScreenPorch</th>\n",
       "      <td>2.977052</td>\n",
       "    </tr>\n",
       "    <tr>\n",
       "      <th>BsmtFinSF2</th>\n",
       "      <td>2.563235</td>\n",
       "    </tr>\n",
       "    <tr>\n",
       "      <th>EnclosedPorch</th>\n",
       "      <td>2.024321</td>\n",
       "    </tr>\n",
       "    <tr>\n",
       "      <th>MasVnrArea</th>\n",
       "      <td>0.637388</td>\n",
       "    </tr>\n",
       "    <tr>\n",
       "      <th>HalfBath</th>\n",
       "      <td>0.592548</td>\n",
       "    </tr>\n",
       "    <tr>\n",
       "      <th>BsmtFullBath</th>\n",
       "      <td>0.441787</td>\n",
       "    </tr>\n",
       "    <tr>\n",
       "      <th>2ndFlrSF</th>\n",
       "      <td>0.328879</td>\n",
       "    </tr>\n",
       "    <tr>\n",
       "      <th>HeatingQC</th>\n",
       "      <td>0.286444</td>\n",
       "    </tr>\n",
       "  </tbody>\n",
       "</table>\n",
       "</div>"
      ],
      "text/plain": [
       "                    Skew\n",
       "PoolArea       15.759529\n",
       "3SsnPorch       8.921650\n",
       "LowQualFinSF    8.741030\n",
       "MiscVal         5.594963\n",
       "LandSlope       4.530264\n",
       "BsmtHalfBath    3.786685\n",
       "KitchenAbvGr    3.697303\n",
       "ScreenPorch     2.977052\n",
       "BsmtFinSF2      2.563235\n",
       "EnclosedPorch   2.024321\n",
       "MasVnrArea      0.637388\n",
       "HalfBath        0.592548\n",
       "BsmtFullBath    0.441787\n",
       "2ndFlrSF        0.328879\n",
       "HeatingQC       0.286444"
      ]
     },
     "execution_count": 35,
     "metadata": {},
     "output_type": "execute_result"
    }
   ],
   "source": [
    "skewed_feats = all_data[numeric_feats].apply(lambda x: skew(x.dropna())).sort_values(ascending=False)\n",
    "print(\"\\nSkew in numerical features: \\n\")\n",
    "skewness = pd.DataFrame({'Skew' :skewed_feats})\n",
    "skewness.head(15)"
   ]
  },
  {
   "cell_type": "markdown",
   "id": "df982c52",
   "metadata": {
    "papermill": {
     "duration": 0.092864,
     "end_time": "2021-12-31T08:32:26.801924",
     "exception": false,
     "start_time": "2021-12-31T08:32:26.709060",
     "status": "completed"
    },
    "tags": []
   },
   "source": [
    "The skewness has indded reduced"
   ]
  },
  {
   "cell_type": "code",
   "execution_count": 36,
   "id": "d899993f",
   "metadata": {
    "execution": {
     "iopub.execute_input": "2021-12-31T08:32:26.991014Z",
     "iopub.status.busy": "2021-12-31T08:32:26.990195Z",
     "iopub.status.idle": "2021-12-31T08:32:27.019615Z",
     "shell.execute_reply": "2021-12-31T08:32:27.020099Z",
     "shell.execute_reply.started": "2021-12-31T08:14:54.068968Z"
    },
    "papermill": {
     "duration": 0.125736,
     "end_time": "2021-12-31T08:32:27.020302",
     "exception": false,
     "start_time": "2021-12-31T08:32:26.894566",
     "status": "completed"
    },
    "tags": []
   },
   "outputs": [
    {
     "data": {
      "text/plain": [
       "(2917, 220)"
      ]
     },
     "execution_count": 36,
     "metadata": {},
     "output_type": "execute_result"
    }
   ],
   "source": [
    "#one hot encoding the rest of the categorical features variables\n",
    "all_data = pd.get_dummies(all_data)\n",
    "all_data.shape"
   ]
  },
  {
   "cell_type": "markdown",
   "id": "3a4eb0be",
   "metadata": {
    "papermill": {
     "duration": 0.09385,
     "end_time": "2021-12-31T08:32:27.207060",
     "exception": false,
     "start_time": "2021-12-31T08:32:27.113210",
     "status": "completed"
    },
    "tags": []
   },
   "source": [
    "Recreate train and test sets"
   ]
  },
  {
   "cell_type": "code",
   "execution_count": 37,
   "id": "f3694758",
   "metadata": {
    "execution": {
     "iopub.execute_input": "2021-12-31T08:32:27.399889Z",
     "iopub.status.busy": "2021-12-31T08:32:27.399189Z",
     "iopub.status.idle": "2021-12-31T08:32:27.401790Z",
     "shell.execute_reply": "2021-12-31T08:32:27.402289Z",
     "shell.execute_reply.started": "2021-12-31T08:14:54.098475Z"
    },
    "papermill": {
     "duration": 0.102454,
     "end_time": "2021-12-31T08:32:27.402470",
     "exception": false,
     "start_time": "2021-12-31T08:32:27.300016",
     "status": "completed"
    },
    "tags": []
   },
   "outputs": [
    {
     "data": {
      "text/plain": [
       "(1458, 220)"
      ]
     },
     "execution_count": 37,
     "metadata": {},
     "output_type": "execute_result"
    }
   ],
   "source": [
    "train = all_data[:ntrain]\n",
    "test = all_data[ntrain:]\n",
    "train.shape"
   ]
  },
  {
   "cell_type": "markdown",
   "id": "9d45f8bb",
   "metadata": {
    "papermill": {
     "duration": 0.093956,
     "end_time": "2021-12-31T08:32:27.590407",
     "exception": false,
     "start_time": "2021-12-31T08:32:27.496451",
     "status": "completed"
    },
    "tags": []
   },
   "source": [
    "# Build Model and Train"
   ]
  },
  {
   "cell_type": "code",
   "execution_count": 38,
   "id": "e1f9a99b",
   "metadata": {
    "execution": {
     "iopub.execute_input": "2021-12-31T08:32:27.779570Z",
     "iopub.status.busy": "2021-12-31T08:32:27.778901Z",
     "iopub.status.idle": "2021-12-31T08:32:28.110022Z",
     "shell.execute_reply": "2021-12-31T08:32:28.109496Z",
     "shell.execute_reply.started": "2021-12-31T08:14:54.104797Z"
    },
    "papermill": {
     "duration": 0.427014,
     "end_time": "2021-12-31T08:32:28.110169",
     "exception": false,
     "start_time": "2021-12-31T08:32:27.683155",
     "status": "completed"
    },
    "tags": []
   },
   "outputs": [],
   "source": [
    "from sklearn.linear_model import ElasticNet, Lasso,  BayesianRidge, LassoLarsIC\n",
    "from sklearn.kernel_ridge import KernelRidge\n",
    "from sklearn.svm import SVR\n",
    "from sklearn.pipeline import make_pipeline\n",
    "from sklearn.preprocessing import RobustScaler\n",
    "from sklearn.base import BaseEstimator, TransformerMixin, RegressorMixin, clone\n",
    "from sklearn.model_selection import KFold, cross_val_score, train_test_split\n",
    "from sklearn.metrics import mean_squared_error\n",
    "from sklearn.ensemble import StackingRegressor\n",
    "from sklearn.cluster import KMeans"
   ]
  },
  {
   "cell_type": "code",
   "execution_count": 39,
   "id": "4c459471",
   "metadata": {
    "execution": {
     "iopub.execute_input": "2021-12-31T08:32:28.302916Z",
     "iopub.status.busy": "2021-12-31T08:32:28.302213Z",
     "iopub.status.idle": "2021-12-31T08:32:28.305105Z",
     "shell.execute_reply": "2021-12-31T08:32:28.305694Z",
     "shell.execute_reply.started": "2021-12-31T08:14:54.367926Z"
    },
    "papermill": {
     "duration": 0.101593,
     "end_time": "2021-12-31T08:32:28.305892",
     "exception": false,
     "start_time": "2021-12-31T08:32:28.204299",
     "status": "completed"
    },
    "tags": []
   },
   "outputs": [],
   "source": [
    "x_train = train.values"
   ]
  },
  {
   "cell_type": "markdown",
   "id": "0b7accca",
   "metadata": {
    "papermill": {
     "duration": 0.092869,
     "end_time": "2021-12-31T08:32:28.496010",
     "exception": false,
     "start_time": "2021-12-31T08:32:28.403141",
     "status": "completed"
    },
    "tags": []
   },
   "source": [
    "Create a function that calculates n_folds cross validation over the train set"
   ]
  },
  {
   "cell_type": "code",
   "execution_count": 40,
   "id": "c3ded704",
   "metadata": {
    "execution": {
     "iopub.execute_input": "2021-12-31T08:32:28.685451Z",
     "iopub.status.busy": "2021-12-31T08:32:28.684793Z",
     "iopub.status.idle": "2021-12-31T08:32:28.690095Z",
     "shell.execute_reply": "2021-12-31T08:32:28.690659Z",
     "shell.execute_reply.started": "2021-12-31T08:14:54.375330Z"
    },
    "papermill": {
     "duration": 0.101807,
     "end_time": "2021-12-31T08:32:28.690828",
     "exception": false,
     "start_time": "2021-12-31T08:32:28.589021",
     "status": "completed"
    },
    "tags": []
   },
   "outputs": [],
   "source": [
    "#Cross Validation function\n",
    "n_folds = 5\n",
    "\n",
    "def rmsle_cv(model, x, y):\n",
    "    kf = KFold(n_folds, shuffle=True, random_state=42).get_n_splits(train.values)\n",
    "    rmse= np.sqrt(-cross_val_score(model, x, y, scoring=\"neg_mean_squared_error\", cv = kf))\n",
    "    return(rmse)"
   ]
  },
  {
   "cell_type": "markdown",
   "id": "05692267",
   "metadata": {
    "papermill": {
     "duration": 0.092618,
     "end_time": "2021-12-31T08:32:28.876591",
     "exception": false,
     "start_time": "2021-12-31T08:32:28.783973",
     "status": "completed"
    },
    "tags": []
   },
   "source": [
    "## The models "
   ]
  },
  {
   "cell_type": "code",
   "execution_count": 41,
   "id": "103a5089",
   "metadata": {
    "execution": {
     "iopub.execute_input": "2021-12-31T08:32:29.068083Z",
     "iopub.status.busy": "2021-12-31T08:32:29.067388Z",
     "iopub.status.idle": "2021-12-31T08:32:29.505394Z",
     "shell.execute_reply": "2021-12-31T08:32:29.506460Z",
     "shell.execute_reply.started": "2021-12-31T08:14:54.385467Z"
    },
    "papermill": {
     "duration": 0.536675,
     "end_time": "2021-12-31T08:32:29.506744",
     "exception": false,
     "start_time": "2021-12-31T08:32:28.970069",
     "status": "completed"
    },
    "tags": []
   },
   "outputs": [
    {
     "name": "stdout",
     "output_type": "stream",
     "text": [
      "Kernel Ridge score: 0.1153 (0.0075)\n",
      "\n"
     ]
    }
   ],
   "source": [
    "KRR = KernelRidge(alpha=0.6, kernel='polynomial', degree=2, coef0=2.5)\n",
    "score = rmsle_cv(KRR, x_train, y_train)\n",
    "print(\"Kernel Ridge score: {:.4f} ({:.4f})\\n\".format(score.mean(), score.std()))"
   ]
  },
  {
   "cell_type": "code",
   "execution_count": 42,
   "id": "27941f49",
   "metadata": {
    "execution": {
     "iopub.execute_input": "2021-12-31T08:32:29.752781Z",
     "iopub.status.busy": "2021-12-31T08:32:29.752106Z",
     "iopub.status.idle": "2021-12-31T08:32:30.673207Z",
     "shell.execute_reply": "2021-12-31T08:32:30.674835Z",
     "shell.execute_reply.started": "2021-12-31T08:14:54.818768Z"
    },
    "papermill": {
     "duration": 1.021747,
     "end_time": "2021-12-31T08:32:30.675323",
     "exception": false,
     "start_time": "2021-12-31T08:32:29.653576",
     "status": "completed"
    },
    "tags": []
   },
   "outputs": [
    {
     "name": "stdout",
     "output_type": "stream",
     "text": [
      "Lasso score: 0.1115 (0.0074)\n",
      "\n"
     ]
    }
   ],
   "source": [
    "lasso = make_pipeline(RobustScaler(), Lasso(alpha =0.0005, random_state=1))\n",
    "score = rmsle_cv(lasso, x_train, y_train)\n",
    "print(\"Lasso score: {:.4f} ({:.4f})\\n\".format(score.mean(), score.std()))"
   ]
  },
  {
   "cell_type": "code",
   "execution_count": 43,
   "id": "36030c23",
   "metadata": {
    "execution": {
     "iopub.execute_input": "2021-12-31T08:32:30.925591Z",
     "iopub.status.busy": "2021-12-31T08:32:30.924538Z",
     "iopub.status.idle": "2021-12-31T08:32:31.866968Z",
     "shell.execute_reply": "2021-12-31T08:32:31.868311Z",
     "shell.execute_reply.started": "2021-12-31T08:14:55.687631Z"
    },
    "papermill": {
     "duration": 1.045855,
     "end_time": "2021-12-31T08:32:31.868606",
     "exception": false,
     "start_time": "2021-12-31T08:32:30.822751",
     "status": "completed"
    },
    "tags": []
   },
   "outputs": [
    {
     "name": "stdout",
     "output_type": "stream",
     "text": [
      "ElasticNet score: 0.1116 (0.0074)\n",
      "\n"
     ]
    }
   ],
   "source": [
    "ENet = make_pipeline(RobustScaler(), ElasticNet(alpha=0.0005, l1_ratio=.9, random_state=3))\n",
    "score = rmsle_cv(ENet, x_train, y_train)\n",
    "print(\"ElasticNet score: {:.4f} ({:.4f})\\n\".format(score.mean(), score.std()))"
   ]
  },
  {
   "cell_type": "code",
   "execution_count": 44,
   "id": "7a4227a3",
   "metadata": {
    "execution": {
     "iopub.execute_input": "2021-12-31T08:32:32.119035Z",
     "iopub.status.busy": "2021-12-31T08:32:32.118028Z",
     "iopub.status.idle": "2021-12-31T08:32:35.977024Z",
     "shell.execute_reply": "2021-12-31T08:32:35.977630Z",
     "shell.execute_reply.started": "2021-12-31T08:14:56.581199Z"
    },
    "papermill": {
     "duration": 3.96255,
     "end_time": "2021-12-31T08:32:35.977810",
     "exception": false,
     "start_time": "2021-12-31T08:32:32.015260",
     "status": "completed"
    },
    "tags": []
   },
   "outputs": [
    {
     "name": "stdout",
     "output_type": "stream",
     "text": [
      " SVR score: 0.1127 (0.0079)\n",
      "\n"
     ]
    }
   ],
   "source": [
    "svr = make_pipeline(RobustScaler(), SVR(C= 20, epsilon= 0.008, gamma=0.0003))\n",
    "score = rmsle_cv(svr, x_train, y_train)\n",
    "print(\" SVR score: {:.4f} ({:.4f})\\n\".format(score.mean(), score.std()))"
   ]
  },
  {
   "cell_type": "code",
   "execution_count": 45,
   "id": "6c7713ac",
   "metadata": {
    "execution": {
     "iopub.execute_input": "2021-12-31T08:32:36.177647Z",
     "iopub.status.busy": "2021-12-31T08:32:36.176946Z",
     "iopub.status.idle": "2021-12-31T08:32:36.180826Z",
     "shell.execute_reply": "2021-12-31T08:32:36.181370Z",
     "shell.execute_reply.started": "2021-12-31T08:15:00.439587Z"
    },
    "papermill": {
     "duration": 0.102098,
     "end_time": "2021-12-31T08:32:36.181565",
     "exception": false,
     "start_time": "2021-12-31T08:32:36.079467",
     "status": "completed"
    },
    "tags": []
   },
   "outputs": [],
   "source": [
    "base_models = []\n",
    "base_models.append(('ENet', ENet))\n",
    "base_models.append(('svr', svr))\n",
    "base_models.append(('lasso', lasso))\n",
    "meta_model = KRR"
   ]
  },
  {
   "cell_type": "markdown",
   "id": "7356bfbb",
   "metadata": {
    "papermill": {
     "duration": 0.094132,
     "end_time": "2021-12-31T08:32:36.372206",
     "exception": false,
     "start_time": "2021-12-31T08:32:36.278074",
     "status": "completed"
    },
    "tags": []
   },
   "source": [
    "## Stack Model"
   ]
  },
  {
   "cell_type": "code",
   "execution_count": 46,
   "id": "15f40aca",
   "metadata": {
    "execution": {
     "iopub.execute_input": "2021-12-31T08:32:36.565831Z",
     "iopub.status.busy": "2021-12-31T08:32:36.564804Z",
     "iopub.status.idle": "2021-12-31T08:33:04.227073Z",
     "shell.execute_reply": "2021-12-31T08:33:04.228676Z",
     "shell.execute_reply.started": "2021-12-31T08:15:00.446846Z"
    },
    "papermill": {
     "duration": 27.761482,
     "end_time": "2021-12-31T08:33:04.228967",
     "exception": false,
     "start_time": "2021-12-31T08:32:36.467485",
     "status": "completed"
    },
    "tags": []
   },
   "outputs": [
    {
     "name": "stdout",
     "output_type": "stream",
     "text": [
      " stack score: 0.1099 (0.0078)\n",
      "\n"
     ]
    }
   ],
   "source": [
    "stack = StackingRegressor(estimators=base_models, final_estimator=meta_model, cv=5)\n",
    "score = rmsle_cv(stack, x_train, y_train)\n",
    "print(\" stack score: {:.4f} ({:.4f})\\n\".format(score.mean(), score.std()))"
   ]
  },
  {
   "cell_type": "markdown",
   "id": "774211d6",
   "metadata": {
    "papermill": {
     "duration": 0.094449,
     "end_time": "2021-12-31T08:33:04.470197",
     "exception": false,
     "start_time": "2021-12-31T08:33:04.375748",
     "status": "completed"
    },
    "tags": []
   },
   "source": [
    "## K-Means"
   ]
  },
  {
   "cell_type": "code",
   "execution_count": 47,
   "id": "bb8829a1",
   "metadata": {
    "execution": {
     "iopub.execute_input": "2021-12-31T08:33:04.665071Z",
     "iopub.status.busy": "2021-12-31T08:33:04.664467Z",
     "iopub.status.idle": "2021-12-31T08:33:04.666883Z",
     "shell.execute_reply": "2021-12-31T08:33:04.666274Z",
     "shell.execute_reply.started": "2021-12-31T08:15:26.824038Z"
    },
    "papermill": {
     "duration": 0.101195,
     "end_time": "2021-12-31T08:33:04.667015",
     "exception": false,
     "start_time": "2021-12-31T08:33:04.565820",
     "status": "completed"
    },
    "tags": []
   },
   "outputs": [],
   "source": [
    "from sklearn.metrics import silhouette_score"
   ]
  },
  {
   "cell_type": "markdown",
   "id": "15b6fab0",
   "metadata": {
    "papermill": {
     "duration": 0.094902,
     "end_time": "2021-12-31T08:33:04.857348",
     "exception": false,
     "start_time": "2021-12-31T08:33:04.762446",
     "status": "completed"
    },
    "tags": []
   },
   "source": [
    "First we want to determine what is the optimal number of clusters K.\n",
    "For this we used the silhouette score."
   ]
  },
  {
   "cell_type": "code",
   "execution_count": 48,
   "id": "90fb6f14",
   "metadata": {
    "execution": {
     "iopub.execute_input": "2021-12-31T08:33:05.050919Z",
     "iopub.status.busy": "2021-12-31T08:33:05.050286Z",
     "iopub.status.idle": "2021-12-31T08:33:35.462651Z",
     "shell.execute_reply": "2021-12-31T08:33:35.463341Z",
     "shell.execute_reply.started": "2021-12-31T08:15:26.834821Z"
    },
    "papermill": {
     "duration": 30.511129,
     "end_time": "2021-12-31T08:33:35.463538",
     "exception": false,
     "start_time": "2021-12-31T08:33:04.952409",
     "status": "completed"
    },
    "tags": []
   },
   "outputs": [
    {
     "data": {
      "text/plain": [
       "Text(0.5, 1.0, 'Silhouette Score VS K')"
      ]
     },
     "execution_count": 48,
     "metadata": {},
     "output_type": "execute_result"
    },
    {
     "data": {
      "image/png": "[encoded data removed]",
      "text/plain": [
       "<Figure size 432x288 with 1 Axes>"
      ]
     },
     "metadata": {},
     "output_type": "display_data"
    }
   ],
   "source": [
    "sil = []\n",
    "kmax = 10\n",
    "for k in range(2, kmax+1):\n",
    "    kmeans = KMeans(n_init = 20, random_state = 1, max_iter=1000, tol = 1e-6, n_clusters = k).fit(x_train)\n",
    "    labels = kmeans.labels_\n",
    "    sil.append(silhouette_score(x_train, labels))\n",
    "\n",
    "plt.plot(list(range(2, kmax+1)), sil)\n",
    "plt.xlabel('K')\n",
    "plt.ylabel('Silhouette Score')\n",
    "plt.title('Silhouette Score VS K')"
   ]
  },
  {
   "cell_type": "markdown",
   "id": "c77d85a8",
   "metadata": {
    "papermill": {
     "duration": 0.116991,
     "end_time": "2021-12-31T08:33:35.697979",
     "exception": false,
     "start_time": "2021-12-31T08:33:35.580988",
     "status": "completed"
    },
    "tags": []
   },
   "source": [
    "We see that the maximal silhouette score, is for K=3. In this case, the silhouette score is 0.217. This value is considered small, which means that the data clustering is not excellent.\n"
   ]
  },
  {
   "cell_type": "code",
   "execution_count": 49,
   "id": "c7093b3e",
   "metadata": {
    "execution": {
     "iopub.execute_input": "2021-12-31T08:33:35.937366Z",
     "iopub.status.busy": "2021-12-31T08:33:35.936631Z",
     "iopub.status.idle": "2021-12-31T08:33:38.787492Z",
     "shell.execute_reply": "2021-12-31T08:33:38.788039Z",
     "shell.execute_reply.started": "2021-12-31T08:15:57.776349Z"
    },
    "papermill": {
     "duration": 2.973889,
     "end_time": "2021-12-31T08:33:38.788276",
     "exception": false,
     "start_time": "2021-12-31T08:33:35.814387",
     "status": "completed"
    },
    "tags": []
   },
   "outputs": [],
   "source": [
    "#take best K\n",
    "n_clusters = 3\n",
    "kmeans = KMeans(n_init = 20, n_clusters=n_clusters, random_state = 1, max_iter=1000, tol = 1e-6).fit(x_train)\n",
    "all_kmeans_preds = kmeans.predict(x_train)"
   ]
  },
  {
   "cell_type": "markdown",
   "id": "036d36f2",
   "metadata": {
    "papermill": {
     "duration": 0.11593,
     "end_time": "2021-12-31T08:33:39.022407",
     "exception": false,
     "start_time": "2021-12-31T08:33:38.906477",
     "status": "completed"
    },
    "tags": []
   },
   "source": [
    "Now, we want to see how many sample we have in each cluster"
   ]
  },
  {
   "cell_type": "code",
   "execution_count": 50,
   "id": "44b031d5",
   "metadata": {
    "execution": {
     "iopub.execute_input": "2021-12-31T08:33:39.262029Z",
     "iopub.status.busy": "2021-12-31T08:33:39.261327Z",
     "iopub.status.idle": "2021-12-31T08:33:39.633607Z",
     "shell.execute_reply": "2021-12-31T08:33:39.634291Z",
     "shell.execute_reply.started": "2021-12-31T08:16:00.358017Z"
    },
    "papermill": {
     "duration": 0.495128,
     "end_time": "2021-12-31T08:33:39.634485",
     "exception": false,
     "start_time": "2021-12-31T08:33:39.139357",
     "status": "completed"
    },
    "tags": []
   },
   "outputs": [
    {
     "data": {
      "image/png": "[encoded data removed]",
      "text/plain": [
       "<Figure size 432x288 with 1 Axes>"
      ]
     },
     "metadata": {},
     "output_type": "display_data"
    }
   ],
   "source": [
    "plt.hist(all_kmeans_preds, bins=n_clusters)\n",
    "plt.title('Number of trianing samples per')\n",
    "plt.show()"
   ]
  },
  {
   "cell_type": "markdown",
   "id": "49d0d39e",
   "metadata": {
    "papermill": {
     "duration": 0.116706,
     "end_time": "2021-12-31T08:33:39.867873",
     "exception": false,
     "start_time": "2021-12-31T08:33:39.751167",
     "status": "completed"
    },
    "tags": []
   },
   "source": [
    "We see that there is a lot of samples in clusters 1, and 2, and less than 100 samples in cluster 0."
   ]
  },
  {
   "cell_type": "markdown",
   "id": "de47629a",
   "metadata": {
    "papermill": {
     "duration": 0.098515,
     "end_time": "2021-12-31T08:33:40.079279",
     "exception": false,
     "start_time": "2021-12-31T08:33:39.980764",
     "status": "completed"
    },
    "tags": []
   },
   "source": [
    "Now, we creates training set for each cluster:"
   ]
  },
  {
   "cell_type": "code",
   "execution_count": 51,
   "id": "b2265548",
   "metadata": {
    "execution": {
     "iopub.execute_input": "2021-12-31T08:33:40.291532Z",
     "iopub.status.busy": "2021-12-31T08:33:40.290846Z",
     "iopub.status.idle": "2021-12-31T08:33:40.454177Z",
     "shell.execute_reply": "2021-12-31T08:33:40.453650Z",
     "shell.execute_reply.started": "2021-12-31T08:16:00.624523Z"
    },
    "papermill": {
     "duration": 0.277701,
     "end_time": "2021-12-31T08:33:40.454356",
     "exception": false,
     "start_time": "2021-12-31T08:33:40.176655",
     "status": "completed"
    },
    "tags": []
   },
   "outputs": [],
   "source": [
    "#find indices of X_train, y_train per cluster\n",
    "splitted_data = {}\n",
    "for i in range(n_clusters):\n",
    "    splitted_data[str(i)] = {}\n",
    "    splitted_data[str(i)]['X_train'] = []\n",
    "    splitted_data[str(i)]['y_train'] = []\n",
    "for idx in range(len(x_train)):\n",
    "     splitted_data[str(all_kmeans_preds[idx])]['X_train'].append(x_train[idx,:])\n",
    "     splitted_data[str(all_kmeans_preds[idx])]['y_train'].append(y_train[idx])\n",
    "for idx in range(len(x_train)):\n",
    "     splitted_data[str(all_kmeans_preds[idx])]['X_train'] = np.array(splitted_data[str(all_kmeans_preds[idx])]['X_train'])\n",
    "     splitted_data[str(all_kmeans_preds[idx])]['y_train'] = np.array(splitted_data[str(all_kmeans_preds[idx])]['y_train'])"
   ]
  },
  {
   "cell_type": "markdown",
   "id": "56bce086",
   "metadata": {
    "papermill": {
     "duration": 0.100092,
     "end_time": "2021-12-31T08:33:40.653617",
     "exception": false,
     "start_time": "2021-12-31T08:33:40.553525",
     "status": "completed"
    },
    "tags": []
   },
   "source": [
    "Creating stack model for each cluster and check its CV score"
   ]
  },
  {
   "cell_type": "code",
   "execution_count": 52,
   "id": "e5e73167",
   "metadata": {
    "execution": {
     "iopub.execute_input": "2021-12-31T08:33:40.859005Z",
     "iopub.status.busy": "2021-12-31T08:33:40.858344Z",
     "iopub.status.idle": "2021-12-31T08:34:18.358578Z",
     "shell.execute_reply": "2021-12-31T08:34:18.359517Z",
     "shell.execute_reply.started": "2021-12-31T08:16:00.814409Z"
    },
    "papermill": {
     "duration": 37.6084,
     "end_time": "2021-12-31T08:34:18.359814",
     "exception": false,
     "start_time": "2021-12-31T08:33:40.751414",
     "status": "completed"
    },
    "tags": []
   },
   "outputs": [
    {
     "name": "stdout",
     "output_type": "stream",
     "text": [
      " cluster 0 score: 0.2076 (0.0256)\n",
      "\n",
      " cluster 1 score: 0.1077 (0.0136)\n",
      "\n",
      " cluster 2 score: 0.1078 (0.0150)\n",
      "\n"
     ]
    }
   ],
   "source": [
    "stack_model_kmeans = []\n",
    "\n",
    "for i in range(n_clusters):\n",
    "    instance = clone(stack)\n",
    "    score = rmsle_cv(instance, splitted_data[str(i)]['X_train'], splitted_data[str(i)]['y_train'])\n",
    "    print(\" cluster \"+str(i)+\" score: {:.4f} ({:.4f})\\n\".format(score.mean(), score.std()))\n",
    "    stack_model_i = instance.fit(splitted_data[str(i)]['X_train'], splitted_data[str(i)]['y_train'])\n",
    "    stack_model_kmeans.append(stack_model_i)\n"
   ]
  },
  {
   "cell_type": "markdown",
   "id": "e5663a1a",
   "metadata": {
    "papermill": {
     "duration": 0.097596,
     "end_time": "2021-12-31T08:34:18.623047",
     "exception": false,
     "start_time": "2021-12-31T08:34:18.525451",
     "status": "completed"
    },
    "tags": []
   },
   "source": [
    "We see that the score for cluster 0 is significantly higher with higher std than the others. These are the results that we are anticipated as in cluster 0 there is a small number of samples."
   ]
  },
  {
   "cell_type": "markdown",
   "id": "c02dba22",
   "metadata": {
    "papermill": {
     "duration": 0.1035,
     "end_time": "2021-12-31T08:34:18.824554",
     "exception": false,
     "start_time": "2021-12-31T08:34:18.721054",
     "status": "completed"
    },
    "tags": []
   },
   "source": [
    "## All train data stack model"
   ]
  },
  {
   "cell_type": "markdown",
   "id": "7e7afbec",
   "metadata": {
    "papermill": {
     "duration": 0.128218,
     "end_time": "2021-12-31T08:34:19.102520",
     "exception": false,
     "start_time": "2021-12-31T08:34:18.974302",
     "status": "completed"
    },
    "tags": []
   },
   "source": [
    "We also trained a stack model over all the train data"
   ]
  },
  {
   "cell_type": "code",
   "execution_count": 53,
   "id": "9a750872",
   "metadata": {
    "execution": {
     "iopub.execute_input": "2021-12-31T08:34:19.325709Z",
     "iopub.status.busy": "2021-12-31T08:34:19.324552Z",
     "iopub.status.idle": "2021-12-31T08:34:26.579691Z",
     "shell.execute_reply": "2021-12-31T08:34:26.580630Z",
     "shell.execute_reply.started": "2021-12-31T08:16:29.391691Z"
    },
    "papermill": {
     "duration": 7.363832,
     "end_time": "2021-12-31T08:34:26.580929",
     "exception": false,
     "start_time": "2021-12-31T08:34:19.217097",
     "status": "completed"
    },
    "tags": []
   },
   "outputs": [],
   "source": [
    "# LassoMd = lasso.fit(x_train,y_train)\n",
    "# ENetMd = ENet.fit(x_train,y_train)\n",
    "# KRRMd = KRR.fit(x_train,y_train)\n",
    "# svrMd = svr.fit(x_train,y_train)\n",
    "\n",
    "stack_model = stack.fit(x_train,y_train)"
   ]
  },
  {
   "cell_type": "markdown",
   "id": "5e2fe316",
   "metadata": {
    "papermill": {
     "duration": 0.098516,
     "end_time": "2021-12-31T08:34:26.823659",
     "exception": false,
     "start_time": "2021-12-31T08:34:26.725143",
     "status": "completed"
    },
    "tags": []
   },
   "source": [
    "## Predictions"
   ]
  },
  {
   "cell_type": "markdown",
   "id": "6a6164fa",
   "metadata": {
    "papermill": {
     "duration": 0.099527,
     "end_time": "2021-12-31T08:34:27.021334",
     "exception": false,
     "start_time": "2021-12-31T08:34:26.921807",
     "status": "completed"
    },
    "tags": []
   },
   "source": [
    "For prediction we did the follow:\n",
    "1. if the test sample is from cluster 0, then use the all data model for prediction. Otherwise, use the model for the corresponded cluster.\n",
    "2. Make a second prediction for each test sample using the all data model.\n",
    "3. As we applied log transform over the labels, we have to apply now the inverse transform for each result in steps 1, and 2.\n",
    "4. The final prediction for each sample is the average between the prediction in step 1 after applying expm1 transform and the prediction in step 2 after applying expm1 transform."
   ]
  },
  {
   "cell_type": "code",
   "execution_count": 54,
   "id": "f71cc31f",
   "metadata": {
    "execution": {
     "iopub.execute_input": "2021-12-31T08:34:27.226779Z",
     "iopub.status.busy": "2021-12-31T08:34:27.226088Z",
     "iopub.status.idle": "2021-12-31T08:34:29.559931Z",
     "shell.execute_reply": "2021-12-31T08:34:29.560868Z",
     "shell.execute_reply.started": "2021-12-31T08:16:36.416825Z"
    },
    "papermill": {
     "duration": 2.440685,
     "end_time": "2021-12-31T08:34:29.561150",
     "exception": false,
     "start_time": "2021-12-31T08:34:27.120465",
     "status": "completed"
    },
    "tags": []
   },
   "outputs": [],
   "source": [
    "output1 = []\n",
    "x_test = np.array(test.values)\n",
    "all_kmeans_preds_test = kmeans.predict(x_test)\n",
    "for i in range(len(x_test)):\n",
    "    index = all_kmeans_preds_test[i]\n",
    "    if index == 0:\n",
    "        output1.append(stack_model.predict(x_test[i:i+1, :])[0])\n",
    "    else:\n",
    "        current_model = stack_model_kmeans[index]\n",
    "        output1.append(current_model.predict(x_test[i:i+1, :])[0])\n",
    "output2 = [(0.5*i+0.5*j) for i,j in zip(stack_model.predict(x_test), output1)]\n",
    "output2 = np.expm1(output2)"
   ]
  },
  {
   "cell_type": "markdown",
   "id": "223dd72b",
   "metadata": {
    "papermill": {
     "duration": 0.097602,
     "end_time": "2021-12-31T08:34:29.808541",
     "exception": false,
     "start_time": "2021-12-31T08:34:29.710939",
     "status": "completed"
    },
    "tags": []
   },
   "source": [
    "## Create csv file for submission"
   ]
  },
  {
   "cell_type": "code",
   "execution_count": 55,
   "id": "3d8406b5",
   "metadata": {
    "execution": {
     "iopub.execute_input": "2021-12-31T08:34:30.014736Z",
     "iopub.status.busy": "2021-12-31T08:34:30.012952Z",
     "iopub.status.idle": "2021-12-31T08:34:30.025440Z",
     "shell.execute_reply": "2021-12-31T08:34:30.025999Z",
     "shell.execute_reply.started": "2021-12-31T08:16:38.818233Z"
    },
    "papermill": {
     "duration": 0.117899,
     "end_time": "2021-12-31T08:34:30.026167",
     "exception": false,
     "start_time": "2021-12-31T08:34:29.908268",
     "status": "completed"
    },
    "tags": []
   },
   "outputs": [],
   "source": [
    "sub = pd.DataFrame()\n",
    "sub['Id'] = test_ID\n",
    "sub['SalePrice'] = output2\n",
    "sub.to_csv('submission.csv',index=False)"
   ]
  }
 ],
 "metadata": {
  "kernelspec": {
   "display_name": "Python 3",
   "language": "python",
   "name": "python3"
  },
  "language_info": {
   "codemirror_mode": {
    "name": "ipython",
    "version": 3
   },
   "file_extension": ".py",
   "mimetype": "text/x-python",
   "name": "python",
   "nbconvert_exporter": "python",
   "pygments_lexer": "ipython3",
   "version": "3.7.12"
  },
  "papermill": {
   "default_parameters": {},
   "duration": 159.729811,
   "end_time": "2021-12-31T08:34:31.036774",
   "environment_variables": {},
   "exception": null,
   "input_path": "__notebook__.ipynb",
   "output_path": "__notebook__.ipynb",
   "parameters": {},
   "start_time": "2021-12-31T08:31:51.306963",
   "version": "2.3.3"
  }
 },
 "nbformat": 4,
 "nbformat_minor": 5
}
